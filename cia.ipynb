{
 "cells": [
  {
   "cell_type": "code",
   "execution_count": 8,
   "metadata": {},
   "outputs": [],
   "source": [
    "import json\n",
    "import pprint\n",
    "import pandas as pd\n",
    "import numpy as np"
   ]
  },
  {
   "cell_type": "code",
   "execution_count": 9,
   "metadata": {},
   "outputs": [],
   "source": [
    "with open('factbook.json', encoding='utf-8') as json_file:\n",
    "    data = json.load(json_file)"
   ]
  },
  {
   "cell_type": "code",
   "execution_count": 10,
   "metadata": {},
   "outputs": [],
   "source": [
    "data_list = []\n",
    "for country_name in data[\"countries\"].keys():\n",
    "    country_data = data[\"countries\"][country_name][\"data\"]\n",
    "    \n",
    "    try:\n",
    "        name = country_data[\"name\"]\n",
    "    except:\n",
    "        name = np.nan\n",
    "      \n",
    "    try:\n",
    "        government_type = country_data[\"government\"][\"government_type\"]\n",
    "    except:\n",
    "        government_type = np.nan\n",
    "     \n",
    "    try:\n",
    "        population = country_data[\"people\"][\"population\"][\"total\"]\n",
    "    except:\n",
    "        population = np.nan\n",
    "        \n",
    "    try:\n",
    "        internet_users = country_data[\"communications\"][\"internet\"][\"users\"][\"total\"]\n",
    "    except:\n",
    "        internet_users = np.nan   \n",
    "        \n",
    "    try:\n",
    "        internet_users_percent = country_data[\"communications\"][\"internet\"][\"users\"][\"percent_of_population\"]\n",
    "    except:\n",
    "        internet_users_percent = np.nan     \n",
    "        \n",
    "    try:\n",
    "        internet_users_rank = country_data[\"communications\"][\"internet\"][\"users\"][\"global_rank\"]\n",
    "    except:\n",
    "        internet_users_rank = np.nan     \n",
    "    \n",
    "    try:\n",
    "        telephones_fixed = country_data[\"communications\"][\"telephones\"][\"fixed_lines\"][\"total_subscriptions\"]\n",
    "    except:\n",
    "        telephones_fixed = np.nan    \n",
    "\n",
    "    try:\n",
    "        telephones_fixed_rank = country_data[\"communications\"][\"telephones\"][\"fixed_lines\"][\"global_rank\"]\n",
    "    except:\n",
    "        telephones_fixed_rank = np.nan \n",
    "   \n",
    "    try:\n",
    "        telephones_mobile = country_data[\"communications\"][\"telephones\"][\"mobile_cellular\"][\"total_subscriptions\"]\n",
    "    except:\n",
    "        telephones_mobile = np.nan    \n",
    "\n",
    "    try:\n",
    "        telephones_mobile_rank = country_data[\"communications\"][\"telephones\"][\"mobile_cellular\"][\"global_rank\"]\n",
    "    except:\n",
    "        telephones_mobile_rank = np.nan \n",
    "\n",
    "    try:\n",
    "        median_age = country_data[\"people\"][\"median_age\"][\"total\"][\"value\"]\n",
    "    except:\n",
    "        median_age = np.nan\n",
    "         \n",
    "    try:\n",
    "        gdp_purchasing = ((country_data[\"economy\"]['gdp'][\"purchasing_power_parity\"][\"annual_values\"])[0])[\"value\"]\n",
    "    except:\n",
    "        gdp_purchasing = np.nan\n",
    "    \n",
    "    try:\n",
    "        gdp_rank = country_data[\"economy\"]['gdp'][\"purchasing_power_parity\"][\"global_rank\"]\n",
    "    except:\n",
    "        gdp_rank = np.nan\n",
    "    \n",
    "    try:\n",
    "        education_expen = country_data[\"people\"][\"education_expenditures\"][\"percent_of_gdp\"]\n",
    "    except:\n",
    "        education_expen = np.nan\n",
    "    \n",
    "    try:\n",
    "        education_rank = country_data[\"people\"][\"education_expenditures\"][\"global_rank\"]\n",
    "    except:\n",
    "        education_rank = np.nan\n",
    "    \n",
    "    data_list.append({\n",
    "        \"Country\": name,\n",
    "        \"Government Type\": government_type,\n",
    "        \"Population\": population,\n",
    "        \"Internet Users\": internet_users,\n",
    "        \"Internet % of Population\": internet_users_percent,\n",
    "        \"Internet Global Rank\": internet_users_rank,\n",
    "        \"Telephones Fixed Lines\": telephones_fixed,\n",
    "        \"Telephones Fixed Lines Global Rank\": telephones_fixed_rank,\n",
    "        \"Telephone Mobile Cellular\": telephones_mobile,\n",
    "        \"Telephone Mobile Cellular Global Rank\": telephones_mobile_rank,\n",
    "        \"Median_age\": median_age,\n",
    "        \"GDP - Purchasing power parity\": gdp_purchasing,\n",
    "        \"GDP - Global Rank\": gdp_rank,\n",
    "        \"Education Expenditures\": education_expen,\n",
    "        \"Education Expeditures - Global Rank\": education_rank,\n",
    "        \n",
    "        \n",
    "    })"
   ]
  },
  {
   "cell_type": "code",
   "execution_count": 11,
   "metadata": {},
   "outputs": [],
   "source": [
    "df = pd.DataFrame(data_list)"
   ]
  },
  {
   "cell_type": "code",
   "execution_count": 12,
   "metadata": {},
   "outputs": [
    {
     "data": {
      "text/plain": [
       "259"
      ]
     },
     "execution_count": 12,
     "metadata": {},
     "output_type": "execute_result"
    }
   ],
   "source": [
    "len(df['Country'])"
   ]
  },
  {
   "cell_type": "code",
   "execution_count": 13,
   "metadata": {},
   "outputs": [
    {
     "data": {
      "text/plain": [
       "Country                                                    United States\n",
       "Government Type                          constitutional federal republic\n",
       "Population                                                   3.29256e+08\n",
       "Internet Users                                               2.46809e+08\n",
       "Internet % of Population                                            76.2\n",
       "Internet Global Rank                                                   3\n",
       "Telephones Fixed Lines                                         119902000\n",
       "Telephones Fixed Lines Global Rank                                     2\n",
       "Telephone Mobile Cellular                                    3.95881e+08\n",
       "Telephone Mobile Cellular Global Rank                                  4\n",
       "Median_age                                                          38.2\n",
       "GDP - Purchasing power parity                                  1.949e+13\n",
       "GDP - Global Rank                                                      2\n",
       "Education Expenditures                                                 5\n",
       "Education Expeditures - Global Rank                                   69\n",
       "Name: 244, dtype: object"
      ]
     },
     "execution_count": 13,
     "metadata": {},
     "output_type": "execute_result"
    }
   ],
   "source": [
    "df.iloc[244]"
   ]
  },
  {
   "cell_type": "code",
   "execution_count": null,
   "metadata": {},
   "outputs": [],
   "source": []
  },
  {
   "cell_type": "code",
   "execution_count": null,
   "metadata": {},
   "outputs": [],
   "source": []
  }
 ],
 "metadata": {
  "kernelspec": {
   "display_name": "butterfly_effect",
   "language": "python",
   "name": "butterfly_effect"
  },
  "language_info": {
   "codemirror_mode": {
    "name": "ipython",
    "version": 3
   },
   "file_extension": ".py",
   "mimetype": "text/x-python",
   "name": "python",
   "nbconvert_exporter": "python",
   "pygments_lexer": "ipython3",
   "version": "3.7.4"
  }
 },
 "nbformat": 4,
 "nbformat_minor": 4
}
