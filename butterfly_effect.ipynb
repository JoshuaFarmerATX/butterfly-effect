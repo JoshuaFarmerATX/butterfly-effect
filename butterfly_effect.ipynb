{
 "cells": [
  {
   "cell_type": "code",
   "execution_count": 2,
   "metadata": {},
   "outputs": [],
   "source": [
    "import pandas as pd\n",
    "import matplotlib.pyplot as plt\n",
    "import numpy as np\n",
    "from pprint import pprint\n",
    "import requests\n",
    "import json\n",
    "import data_import\n",
    "import country_converter as coco"
   ]
  },
  {
   "cell_type": "code",
   "execution_count": 3,
   "metadata": {},
   "outputs": [],
   "source": [
    "rest_df = data_import.get_rest_countries()"
   ]
  },
  {
   "cell_type": "code",
   "execution_count": 4,
   "metadata": {},
   "outputs": [
    {
     "name": "stderr",
     "output_type": "stream",
     "text": [
      "WARNING:root:World not found in regex\n",
      "WARNING:root:Akrotiri not found in regex\n",
      "WARNING:root:Arctic Ocean not found in regex\n",
      "WARNING:root:Ashmore And Cartier Islands not found in regex\n",
      "WARNING:root:Atlantic Ocean not found in regex\n",
      "WARNING:root:Clipperton Island not found in regex\n",
      "WARNING:root:Coral Sea Islands not found in regex\n",
      "WARNING:root:Dhekelia not found in regex\n",
      "WARNING:root:Indian Ocean not found in regex\n",
      "WARNING:root:Jan Mayen not found in regex\n",
      "WARNING:root:Navassa Island not found in regex\n",
      "WARNING:root:Pacific Ocean not found in regex\n",
      "WARNING:root:Paracel Islands not found in regex\n",
      "WARNING:root:Southern Ocean not found in regex\n",
      "WARNING:root:Spratly Islands not found in regex\n",
      "WARNING:root:Virgin Islands not found in regex\n",
      "WARNING:root:Wake Island not found in regex\n",
      "WARNING:root:European Union not found in regex\n",
      "WARNING:root:World not found in regex\n",
      "WARNING:root:Akrotiri not found in regex\n",
      "WARNING:root:Arctic Ocean not found in regex\n",
      "WARNING:root:Ashmore And Cartier Islands not found in regex\n",
      "WARNING:root:Atlantic Ocean not found in regex\n",
      "WARNING:root:Clipperton Island not found in regex\n",
      "WARNING:root:Coral Sea Islands not found in regex\n",
      "WARNING:root:Dhekelia not found in regex\n",
      "WARNING:root:Indian Ocean not found in regex\n",
      "WARNING:root:Jan Mayen not found in regex\n",
      "WARNING:root:Navassa Island not found in regex\n",
      "WARNING:root:Pacific Ocean not found in regex\n",
      "WARNING:root:Paracel Islands not found in regex\n",
      "WARNING:root:Southern Ocean not found in regex\n",
      "WARNING:root:Spratly Islands not found in regex\n",
      "WARNING:root:Virgin Islands not found in regex\n",
      "WARNING:root:Wake Island not found in regex\n",
      "WARNING:root:European Union not found in regex\n"
     ]
    }
   ],
   "source": [
    "cia_df = data_import.get_cia_data()"
   ]
  },
  {
   "cell_type": "code",
   "execution_count": 5,
   "metadata": {},
   "outputs": [],
   "source": [
    "#check if country in rest_df is in cia_df\n",
    "\n",
    "# in_cia = rest_df.assign(In_new_cia=rest_df.country.isin(new_cia.country).astype(int))\n",
    "\n",
    "# list_cia = in_cia.loc[in_cia['In_new_cia'] == 0]\n"
   ]
  },
  {
   "cell_type": "code",
    "execution_count": 6,
   "metadata": {},
   "outputs": [],
   "source": [
    "# in_rest = new_cia.assign(In_rest_df=new_cia.country.isin(rest_df.country).astype(int))\n",
    "\n",
    "# list_rest= in_rest.loc[in_rest['In_rest_df'] == 0]\n"
   ]
  },
  {
   "cell_type": "code",
   "execution_count": 7,
   "metadata": {},
   "outputs": [
    {
     "data": {
      "text/html": [
       "<div>\n",
       "<style scoped>\n",
       "    .dataframe tbody tr th:only-of-type {\n",
       "        vertical-align: middle;\n",
       "    }\n",
       "\n",
       "    .dataframe tbody tr th {\n",
       "        vertical-align: top;\n",
       "    }\n",
       "\n",
       "    .dataframe thead th {\n",
       "        text-align: right;\n",
       "    }\n",
       "</style>\n",
       "<table border=\"1\" class=\"dataframe\">\n",
       "  <thead>\n",
       "    <tr style=\"text-align: right;\">\n",
       "      <th></th>\n",
       "      <th>country</th>\n",
       "      <th>population</th>\n",
       "      <th>internet_users</th>\n",
       "      <th>internet_%_of_population</th>\n",
       "      <th>internet_global_rank</th>\n",
       "      <th>telephones_fixed_lines</th>\n",
       "      <th>telephone_mobile_cellular</th>\n",
       "      <th>median_age</th>\n",
       "      <th>gdp_purchasing_power_parity</th>\n",
       "      <th>gdp_global_rank</th>\n",
       "      <th>education_expenditures</th>\n",
       "      <th>education_expeditures_global_rank</th>\n",
       "      <th>ISO3</th>\n",
       "    </tr>\n",
       "  </thead>\n",
       "  <tbody>\n",
       "    <tr>\n",
       "      <th>0</th>\n",
       "      <td>World</td>\n",
       "      <td>7.503828e+09</td>\n",
       "      <td>3.174000e+09</td>\n",
       "      <td>43.0</td>\n",
       "      <td>NaN</td>\n",
       "      <td>984289950</td>\n",
       "      <td>7.806143e+09</td>\n",
       "      <td>30.6</td>\n",
       "      <td>1.278000e+14</td>\n",
       "      <td>NaN</td>\n",
       "      <td>NaN</td>\n",
       "      <td>NaN</td>\n",
       "      <td>World</td>\n",
       "    </tr>\n",
       "    <tr>\n",
       "      <th>1</th>\n",
       "      <td>Afghanistan</td>\n",
       "      <td>3.494084e+07</td>\n",
       "      <td>3.531770e+06</td>\n",
       "      <td>10.6</td>\n",
       "      <td>NaN</td>\n",
       "      <td>118769</td>\n",
       "      <td>2.392971e+07</td>\n",
       "      <td>19.0</td>\n",
       "      <td>6.945000e+10</td>\n",
       "      <td>101.0</td>\n",
       "      <td>3.9</td>\n",
       "      <td>111.0</td>\n",
       "      <td>AFG</td>\n",
       "    </tr>\n",
       "    <tr>\n",
       "      <th>3</th>\n",
       "      <td>Albania</td>\n",
       "      <td>3.057220e+06</td>\n",
       "      <td>2.016516e+06</td>\n",
       "      <td>66.4</td>\n",
       "      <td>110.0</td>\n",
       "      <td>247010</td>\n",
       "      <td>3.497950e+06</td>\n",
       "      <td>33.4</td>\n",
       "      <td>3.601000e+10</td>\n",
       "      <td>125.0</td>\n",
       "      <td>4.0</td>\n",
       "      <td>108.0</td>\n",
       "      <td>ALB</td>\n",
       "    </tr>\n",
       "    <tr>\n",
       "      <th>4</th>\n",
       "      <td>Algeria</td>\n",
       "      <td>4.165749e+07</td>\n",
       "      <td>1.729146e+07</td>\n",
       "      <td>42.9</td>\n",
       "      <td>36.0</td>\n",
       "      <td>3130090</td>\n",
       "      <td>4.987339e+07</td>\n",
       "      <td>28.3</td>\n",
       "      <td>6.300000e+11</td>\n",
       "      <td>36.0</td>\n",
       "      <td>NaN</td>\n",
       "      <td>NaN</td>\n",
       "      <td>DZA</td>\n",
       "    </tr>\n",
       "    <tr>\n",
       "      <th>5</th>\n",
       "      <td>American Samoa</td>\n",
       "      <td>5.082600e+04</td>\n",
       "      <td>1.700000e+04</td>\n",
       "      <td>31.3</td>\n",
       "      <td>205.0</td>\n",
       "      <td>10000</td>\n",
       "      <td>NaN</td>\n",
       "      <td>26.1</td>\n",
       "      <td>6.580000e+08</td>\n",
       "      <td>209.0</td>\n",
       "      <td>NaN</td>\n",
       "      <td>NaN</td>\n",
       "      <td>ASM</td>\n",
       "    </tr>\n",
       "  </tbody>\n",
       "</table>\n",
       "</div>"
      ],
      "text/plain": [
       "          country    population  internet_users  internet_%_of_population  \\\n",
       "0           World  7.503828e+09    3.174000e+09                      43.0   \n",
       "1     Afghanistan  3.494084e+07    3.531770e+06                      10.6   \n",
       "3         Albania  3.057220e+06    2.016516e+06                      66.4   \n",
       "4         Algeria  4.165749e+07    1.729146e+07                      42.9   \n",
       "5  American Samoa  5.082600e+04    1.700000e+04                      31.3   \n",
       "\n",
       "   internet_global_rank telephones_fixed_lines  telephone_mobile_cellular  \\\n",
       "0                   NaN              984289950               7.806143e+09   \n",
       "1                   NaN                 118769               2.392971e+07   \n",
       "3                 110.0                 247010               3.497950e+06   \n",
       "4                  36.0                3130090               4.987339e+07   \n",
       "5                 205.0                  10000                        NaN   \n",
       "\n",
       "   median_age  gdp_purchasing_power_parity  gdp_global_rank  \\\n",
       "0        30.6                 1.278000e+14              NaN   \n",
       "1        19.0                 6.945000e+10            101.0   \n",
       "3        33.4                 3.601000e+10            125.0   \n",
       "4        28.3                 6.300000e+11             36.0   \n",
       "5        26.1                 6.580000e+08            209.0   \n",
       "\n",
       "   education_expenditures  education_expeditures_global_rank   ISO3  \n",
       "0                     NaN                                NaN  World  \n",
       "1                     3.9                              111.0    AFG  \n",
       "3                     4.0                              108.0    ALB  \n",
       "4                     NaN                                NaN    DZA  \n",
       "5                     NaN                                NaN    ASM  "
      ]
     },
     "execution_count": 7,
     "metadata": {},
     "output_type": "execute_result"
    }
   ],
   "source": [
    "cia_df.head()"
   ]
  },
  {
   "cell_type": "code",
   "execution_count": 8,
   "metadata": {},
   "outputs": [
    {
     "data": {
      "text/html": [
       "<div>\n",
       "<style scoped>\n",
       "    .dataframe tbody tr th:only-of-type {\n",
       "        vertical-align: middle;\n",
       "    }\n",
       "\n",
       "    .dataframe tbody tr th {\n",
       "        vertical-align: top;\n",
       "    }\n",
       "\n",
       "    .dataframe thead th {\n",
       "        text-align: right;\n",
       "    }\n",
       "</style>\n",
       "<table border=\"1\" class=\"dataframe\">\n",
       "  <thead>\n",
       "    <tr style=\"text-align: right;\">\n",
       "      <th></th>\n",
       "      <th>country</th>\n",
       "      <th>ISO3</th>\n",
       "      <th>region</th>\n",
       "      <th>sub-region</th>\n",
       "      <th>latitude</th>\n",
       "      <th>longitude</th>\n",
       "      <th>borders</th>\n",
       "      <th>regional_bloc</th>\n",
       "    </tr>\n",
       "  </thead>\n",
       "  <tbody>\n",
       "    <tr>\n",
       "      <th>250</th>\n",
       "      <td>World</td>\n",
       "      <td>World</td>\n",
       "      <td>World</td>\n",
       "      <td>World</td>\n",
       "      <td>World</td>\n",
       "      <td>World</td>\n",
       "      <td>World</td>\n",
       "      <td>World</td>\n",
       "    </tr>\n",
       "  </tbody>\n",
       "</table>\n",
       "</div>"
      ],
      "text/plain": [
       "    country   ISO3 region sub-region latitude longitude borders regional_bloc\n",
       "250   World  World  World      World    World     World   World         World"
      ]
     },
     "execution_count": 8,
     "metadata": {},
     "output_type": "execute_result"
    }
   ],
   "source": [
    "rest_df.loc[rest_df['ISO3'] == 'World']"
   ]
  },
  {
   "cell_type": "code",
   "execution_count": null,
   "metadata": {},
   "outputs": [],
   "source": []
  },
  {
   "cell_type": "code",
   "execution_count": null,
   "metadata": {},
   "outputs": [],
   "source": []
  },
  {
   "cell_type": "code",
   "execution_count": null,
   "metadata": {},
   "outputs": [],
   "source": []
  },
  {
   "cell_type": "code",
   "execution_count": 9,
   "metadata": {},
   "outputs": [],
   "source": [
    "merged_data = pd.merge(rest_df, cia_df, how = 'inner', on = 'ISO3')"
   ]
  },
  {
   "cell_type": "code",
   "execution_count": 10,
   "metadata": {},
   "outputs": [
    {
     "data": {
      "text/html": [
       "<div>\n",
       "<style scoped>\n",
       "    .dataframe tbody tr th:only-of-type {\n",
       "        vertical-align: middle;\n",
       "    }\n",
       "\n",
       "    .dataframe tbody tr th {\n",
       "        vertical-align: top;\n",
       "    }\n",
       "\n",
       "    .dataframe thead th {\n",
       "        text-align: right;\n",
       "    }\n",
       "</style>\n",
       "<table border=\"1\" class=\"dataframe\">\n",
       "  <thead>\n",
       "    <tr style=\"text-align: right;\">\n",
       "      <th></th>\n",
       "      <th>country_x</th>\n",
       "      <th>ISO3</th>\n",
       "      <th>region</th>\n",
       "      <th>sub-region</th>\n",
       "      <th>latitude</th>\n",
       "      <th>longitude</th>\n",
       "      <th>borders</th>\n",
       "      <th>regional_bloc</th>\n",
       "      <th>country_y</th>\n",
       "      <th>population</th>\n",
       "      <th>internet_users</th>\n",
       "      <th>internet_%_of_population</th>\n",
       "      <th>internet_global_rank</th>\n",
       "      <th>telephones_fixed_lines</th>\n",
       "      <th>telephone_mobile_cellular</th>\n",
       "      <th>median_age</th>\n",
       "      <th>gdp_purchasing_power_parity</th>\n",
       "      <th>gdp_global_rank</th>\n",
       "      <th>education_expenditures</th>\n",
       "      <th>education_expeditures_global_rank</th>\n",
       "    </tr>\n",
       "  </thead>\n",
       "  <tbody>\n",
       "    <tr>\n",
       "      <th>0</th>\n",
       "      <td>Afghanistan</td>\n",
       "      <td>AFG</td>\n",
       "      <td>Asia</td>\n",
       "      <td>Southern Asia</td>\n",
       "      <td>33</td>\n",
       "      <td>65</td>\n",
       "      <td>[IRN, PAK, TKM, UZB, TJK, CHN]</td>\n",
       "      <td>South Asian Association for Regional Cooperation</td>\n",
       "      <td>Afghanistan</td>\n",
       "      <td>34940837.0</td>\n",
       "      <td>3531770.0</td>\n",
       "      <td>10.6</td>\n",
       "      <td>NaN</td>\n",
       "      <td>118769</td>\n",
       "      <td>23929713.0</td>\n",
       "      <td>19.0</td>\n",
       "      <td>6.945000e+10</td>\n",
       "      <td>101.0</td>\n",
       "      <td>3.9</td>\n",
       "      <td>111.0</td>\n",
       "    </tr>\n",
       "    <tr>\n",
       "      <th>1</th>\n",
       "      <td>Albania</td>\n",
       "      <td>ALB</td>\n",
       "      <td>Europe</td>\n",
       "      <td>Southern Europe</td>\n",
       "      <td>41</td>\n",
       "      <td>20</td>\n",
       "      <td>[MNE, GRC, MKD, KOS]</td>\n",
       "      <td>Central European Free Trade Agreement</td>\n",
       "      <td>Albania</td>\n",
       "      <td>3057220.0</td>\n",
       "      <td>2016516.0</td>\n",
       "      <td>66.4</td>\n",
       "      <td>110.0</td>\n",
       "      <td>247010</td>\n",
       "      <td>3497950.0</td>\n",
       "      <td>33.4</td>\n",
       "      <td>3.601000e+10</td>\n",
       "      <td>125.0</td>\n",
       "      <td>4.0</td>\n",
       "      <td>108.0</td>\n",
       "    </tr>\n",
       "    <tr>\n",
       "      <th>2</th>\n",
       "      <td>Algeria</td>\n",
       "      <td>DZA</td>\n",
       "      <td>Africa</td>\n",
       "      <td>Northern Africa</td>\n",
       "      <td>28</td>\n",
       "      <td>3</td>\n",
       "      <td>[TUN, LBY, NER, ESH, MRT, MLI, MAR]</td>\n",
       "      <td>African Union</td>\n",
       "      <td>Algeria</td>\n",
       "      <td>41657488.0</td>\n",
       "      <td>17291463.0</td>\n",
       "      <td>42.9</td>\n",
       "      <td>36.0</td>\n",
       "      <td>3130090</td>\n",
       "      <td>49873389.0</td>\n",
       "      <td>28.3</td>\n",
       "      <td>6.300000e+11</td>\n",
       "      <td>36.0</td>\n",
       "      <td>NaN</td>\n",
       "      <td>NaN</td>\n",
       "    </tr>\n",
       "    <tr>\n",
       "      <th>3</th>\n",
       "      <td>American Samoa</td>\n",
       "      <td>ASM</td>\n",
       "      <td>Oceania</td>\n",
       "      <td>Polynesia</td>\n",
       "      <td>-14.3333</td>\n",
       "      <td>-170</td>\n",
       "      <td>[]</td>\n",
       "      <td>None</td>\n",
       "      <td>American Samoa</td>\n",
       "      <td>50826.0</td>\n",
       "      <td>17000.0</td>\n",
       "      <td>31.3</td>\n",
       "      <td>205.0</td>\n",
       "      <td>10000</td>\n",
       "      <td>NaN</td>\n",
       "      <td>26.1</td>\n",
       "      <td>6.580000e+08</td>\n",
       "      <td>209.0</td>\n",
       "      <td>NaN</td>\n",
       "      <td>NaN</td>\n",
       "    </tr>\n",
       "    <tr>\n",
       "      <th>4</th>\n",
       "      <td>Andorra</td>\n",
       "      <td>AND</td>\n",
       "      <td>Europe</td>\n",
       "      <td>Southern Europe</td>\n",
       "      <td>42.5</td>\n",
       "      <td>1.5</td>\n",
       "      <td>[FRA, ESP]</td>\n",
       "      <td>None</td>\n",
       "      <td>Andorra</td>\n",
       "      <td>85708.0</td>\n",
       "      <td>83887.0</td>\n",
       "      <td>97.9</td>\n",
       "      <td>177.0</td>\n",
       "      <td>38411</td>\n",
       "      <td>80337.0</td>\n",
       "      <td>44.9</td>\n",
       "      <td>3.327000e+09</td>\n",
       "      <td>186.0</td>\n",
       "      <td>3.2</td>\n",
       "      <td>132.0</td>\n",
       "    </tr>\n",
       "  </tbody>\n",
       "</table>\n",
       "</div>"
      ],
      "text/plain": [
       "        country_x ISO3   region       sub-region latitude longitude  \\\n",
       "0     Afghanistan  AFG     Asia    Southern Asia       33        65   \n",
       "1         Albania  ALB   Europe  Southern Europe       41        20   \n",
       "2         Algeria  DZA   Africa  Northern Africa       28         3   \n",
       "3  American Samoa  ASM  Oceania        Polynesia -14.3333      -170   \n",
       "4         Andorra  AND   Europe  Southern Europe     42.5       1.5   \n",
       "\n",
       "                               borders  \\\n",
       "0       [IRN, PAK, TKM, UZB, TJK, CHN]   \n",
       "1                 [MNE, GRC, MKD, KOS]   \n",
       "2  [TUN, LBY, NER, ESH, MRT, MLI, MAR]   \n",
       "3                                   []   \n",
       "4                           [FRA, ESP]   \n",
       "\n",
       "                                      regional_bloc       country_y  \\\n",
       "0  South Asian Association for Regional Cooperation     Afghanistan   \n",
       "1             Central European Free Trade Agreement         Albania   \n",
       "2                                     African Union         Algeria   \n",
       "3                                              None  American Samoa   \n",
       "4                                              None         Andorra   \n",
       "\n",
       "   population  internet_users  internet_%_of_population  internet_global_rank  \\\n",
       "0  34940837.0       3531770.0                      10.6                   NaN   \n",
       "1   3057220.0       2016516.0                      66.4                 110.0   \n",
       "2  41657488.0      17291463.0                      42.9                  36.0   \n",
       "3     50826.0         17000.0                      31.3                 205.0   \n",
       "4     85708.0         83887.0                      97.9                 177.0   \n",
       "\n",
       "  telephones_fixed_lines  telephone_mobile_cellular  median_age  \\\n",
       "0                 118769                 23929713.0        19.0   \n",
       "1                 247010                  3497950.0        33.4   \n",
       "2                3130090                 49873389.0        28.3   \n",
       "3                  10000                        NaN        26.1   \n",
       "4                  38411                    80337.0        44.9   \n",
       "\n",
       "   gdp_purchasing_power_parity  gdp_global_rank  education_expenditures  \\\n",
       "0                 6.945000e+10            101.0                     3.9   \n",
       "1                 3.601000e+10            125.0                     4.0   \n",
       "2                 6.300000e+11             36.0                     NaN   \n",
       "3                 6.580000e+08            209.0                     NaN   \n",
       "4                 3.327000e+09            186.0                     3.2   \n",
       "\n",
       "   education_expeditures_global_rank  \n",
       "0                              111.0  \n",
       "1                              108.0  \n",
       "2                                NaN  \n",
       "3                                NaN  \n",
       "4                              132.0  "
      ]
     },
     "execution_count": 10,
     "metadata": {},
     "output_type": "execute_result"
    }
   ],
   "source": [
    "merged_data.head()"
   ]
  },
  {
   "cell_type": "code",
   "execution_count": 11,
   "metadata": {},
   "outputs": [],
   "source": [
    "merged_data = merged_data[['ISO3', 'country_y', 'region', 'sub-region', 'latitude', 'longitude', 'borders', 'population', 'internet_users', 'internet_%_of_population', 'median_age', 'education_expenditures']]"
   ]
  },
  {
   "cell_type": "code",
   "execution_count": 12,
   "metadata": {},
   "outputs": [
    {
     "data": {
      "text/html": [
       "<div>\n",
       "<style scoped>\n",
       "    .dataframe tbody tr th:only-of-type {\n",
       "        vertical-align: middle;\n",
       "    }\n",
       "\n",
       "    .dataframe tbody tr th {\n",
       "        vertical-align: top;\n",
       "    }\n",
       "\n",
       "    .dataframe thead th {\n",
       "        text-align: right;\n",
       "    }\n",
       "</style>\n",
       "<table border=\"1\" class=\"dataframe\">\n",
       "  <thead>\n",
       "    <tr style=\"text-align: right;\">\n",
       "      <th></th>\n",
       "      <th>ISO3</th>\n",
       "      <th>country_y</th>\n",
       "      <th>region</th>\n",
       "      <th>sub-region</th>\n",
       "      <th>latitude</th>\n",
       "      <th>longitude</th>\n",
       "      <th>borders</th>\n",
       "      <th>population</th>\n",
       "      <th>internet_users</th>\n",
       "      <th>internet_%_of_population</th>\n",
       "      <th>median_age</th>\n",
       "      <th>education_expenditures</th>\n",
       "    </tr>\n",
       "  </thead>\n",
       "  <tbody>\n",
       "    <tr>\n",
       "      <th>0</th>\n",
       "      <td>AFG</td>\n",
       "      <td>Afghanistan</td>\n",
       "      <td>Asia</td>\n",
       "      <td>Southern Asia</td>\n",
       "      <td>33</td>\n",
       "      <td>65</td>\n",
       "      <td>[IRN, PAK, TKM, UZB, TJK, CHN]</td>\n",
       "      <td>34940837.0</td>\n",
       "      <td>3531770.0</td>\n",
       "      <td>10.6</td>\n",
       "      <td>19.0</td>\n",
       "      <td>3.9</td>\n",
       "    </tr>\n",
       "    <tr>\n",
       "      <th>1</th>\n",
       "      <td>ALB</td>\n",
       "      <td>Albania</td>\n",
       "      <td>Europe</td>\n",
       "      <td>Southern Europe</td>\n",
       "      <td>41</td>\n",
       "      <td>20</td>\n",
       "      <td>[MNE, GRC, MKD, KOS]</td>\n",
       "      <td>3057220.0</td>\n",
       "      <td>2016516.0</td>\n",
       "      <td>66.4</td>\n",
       "      <td>33.4</td>\n",
       "      <td>4.0</td>\n",
       "    </tr>\n",
       "    <tr>\n",
       "      <th>2</th>\n",
       "      <td>DZA</td>\n",
       "      <td>Algeria</td>\n",
       "      <td>Africa</td>\n",
       "      <td>Northern Africa</td>\n",
       "      <td>28</td>\n",
       "      <td>3</td>\n",
       "      <td>[TUN, LBY, NER, ESH, MRT, MLI, MAR]</td>\n",
       "      <td>41657488.0</td>\n",
       "      <td>17291463.0</td>\n",
       "      <td>42.9</td>\n",
       "      <td>28.3</td>\n",
       "      <td>NaN</td>\n",
       "    </tr>\n",
       "    <tr>\n",
       "      <th>3</th>\n",
       "      <td>ASM</td>\n",
       "      <td>American Samoa</td>\n",
       "      <td>Oceania</td>\n",
       "      <td>Polynesia</td>\n",
       "      <td>-14.3333</td>\n",
       "      <td>-170</td>\n",
       "      <td>[]</td>\n",
       "      <td>50826.0</td>\n",
       "      <td>17000.0</td>\n",
       "      <td>31.3</td>\n",
       "      <td>26.1</td>\n",
       "      <td>NaN</td>\n",
       "    </tr>\n",
       "    <tr>\n",
       "      <th>4</th>\n",
       "      <td>AND</td>\n",
       "      <td>Andorra</td>\n",
       "      <td>Europe</td>\n",
       "      <td>Southern Europe</td>\n",
       "      <td>42.5</td>\n",
       "      <td>1.5</td>\n",
       "      <td>[FRA, ESP]</td>\n",
       "      <td>85708.0</td>\n",
       "      <td>83887.0</td>\n",
       "      <td>97.9</td>\n",
       "      <td>44.9</td>\n",
       "      <td>3.2</td>\n",
       "    </tr>\n",
       "  </tbody>\n",
       "</table>\n",
       "</div>"
      ],
      "text/plain": [
       "  ISO3       country_y   region       sub-region latitude longitude  \\\n",
       "0  AFG     Afghanistan     Asia    Southern Asia       33        65   \n",
       "1  ALB         Albania   Europe  Southern Europe       41        20   \n",
       "2  DZA         Algeria   Africa  Northern Africa       28         3   \n",
       "3  ASM  American Samoa  Oceania        Polynesia -14.3333      -170   \n",
       "4  AND         Andorra   Europe  Southern Europe     42.5       1.5   \n",
       "\n",
       "                               borders  population  internet_users  \\\n",
       "0       [IRN, PAK, TKM, UZB, TJK, CHN]  34940837.0       3531770.0   \n",
       "1                 [MNE, GRC, MKD, KOS]   3057220.0       2016516.0   \n",
       "2  [TUN, LBY, NER, ESH, MRT, MLI, MAR]  41657488.0      17291463.0   \n",
       "3                                   []     50826.0         17000.0   \n",
       "4                           [FRA, ESP]     85708.0         83887.0   \n",
       "\n",
       "   internet_%_of_population  median_age  education_expenditures  \n",
       "0                      10.6        19.0                     3.9  \n",
       "1                      66.4        33.4                     4.0  \n",
       "2                      42.9        28.3                     NaN  \n",
       "3                      31.3        26.1                     NaN  \n",
       "4                      97.9        44.9                     3.2  "
      ]
     },
     "execution_count": 12,
     "metadata": {},
     "output_type": "execute_result"
    }
   ],
   "source": [
    "merged_data.head()"
   ]
  },
  {
   "cell_type": "markdown",
   "metadata": {},
   "source": [
    "<h1> Josh's Workspace </h1>"
   ]
  },
  {
   "cell_type": "code",
   "execution_count": 13,
   "metadata": {},
   "outputs": [],
   "source": [
    "pop_low = merged_data[\"population\"].quantile(0.1)\n",
    "pop_hi  = merged_data[\"population\"].quantile(0.9)\n",
    "edu_low = merged_data['education_expenditures'].quantile(0.01)\n",
    "edu_hi = merged_data['education_expenditures'].quantile(0.99)\n",
    "\n",
    "\n",
    "df_filtered = merged_data[(merged_data[\"population\"] < pop_hi) & (merged_data[\"population\"] > pop_low) & (merged_data['education_expenditures'] > edu_low) & (merged_data['education_expenditures'] < edu_hi)]"
   ]
  },
  {
   "cell_type": "code",
   "execution_count": 14,
   "metadata": {},
   "outputs": [
    {
     "data": {
      "image/png": "[encoded data removed]",
      "text/plain": [
       "<Figure size 432x288 with 1 Axes>"
      ]
     },
     "metadata": {
      "needs_background": "light"
     },
     "output_type": "display_data"
    }
   ],
   "source": [
    "z = np.polyfit(df_filtered['internet_%_of_population'], df_filtered['education_expenditures'], 1)\n",
    "p = np.poly1d(z)\n",
    "\n",
    "plt.plot(df_filtered['internet_%_of_population'],p(df_filtered['internet_%_of_population']),\"r--\")\n",
    "plt.scatter(df_filtered['internet_%_of_population'], df_filtered['education_expenditures'], alpha = .6)\n",
    "plt.xlabel('Percent of Internet Usage')\n",
    "plt.ylabel('Education Expenditures (GDP %)')\n",
    "\n",
    "plt.show()"
   ]
  },
  {
   "cell_type": "code",
   "execution_count": 15,
   "metadata": {},
   "outputs": [],
   "source": [
    "sub_df = df_filtered[['sub-region', 'internet_%_of_population', 'median_age', 'education_expenditures']]"
   ]
  },
  {
   "cell_type": "code",
   "execution_count": 16,
   "metadata": {},
   "outputs": [],
   "source": [
    "sub_df = sub_df.groupby('sub-region').mean()"
   ]
  },
  {
   "cell_type": "code",
   "execution_count": 17,
   "metadata": {},
   "outputs": [
    {
     "data": {
      "text/html": [
       "<div>\n",
       "<style scoped>\n",
       "    .dataframe tbody tr th:only-of-type {\n",
       "        vertical-align: middle;\n",
       "    }\n",
       "\n",
       "    .dataframe tbody tr th {\n",
       "        vertical-align: top;\n",
       "    }\n",
       "\n",
       "    .dataframe thead th {\n",
       "        text-align: right;\n",
       "    }\n",
       "</style>\n",
       "<table border=\"1\" class=\"dataframe\">\n",
       "  <thead>\n",
       "    <tr style=\"text-align: right;\">\n",
       "      <th></th>\n",
       "      <th>internet_%_of_population</th>\n",
       "      <th>median_age</th>\n",
       "      <th>education_expenditures</th>\n",
       "    </tr>\n",
       "    <tr>\n",
       "      <th>sub-region</th>\n",
       "      <th></th>\n",
       "      <th></th>\n",
       "      <th></th>\n",
       "    </tr>\n",
       "  </thead>\n",
       "  <tbody>\n",
       "    <tr>\n",
       "      <th>Australia and New Zealand</th>\n",
       "      <td>88.350000</td>\n",
       "      <td>38.450000</td>\n",
       "      <td>5.800000</td>\n",
       "    </tr>\n",
       "    <tr>\n",
       "      <th>Caribbean</th>\n",
       "      <td>64.366667</td>\n",
       "      <td>34.358333</td>\n",
       "      <td>5.000000</td>\n",
       "    </tr>\n",
       "    <tr>\n",
       "      <th>Central America</th>\n",
       "      <td>40.385714</td>\n",
       "      <td>26.357143</td>\n",
       "      <td>4.942857</td>\n",
       "    </tr>\n",
       "    <tr>\n",
       "      <th>Central Asia</th>\n",
       "      <td>39.320000</td>\n",
       "      <td>27.980000</td>\n",
       "      <td>4.940000</td>\n",
       "    </tr>\n",
       "    <tr>\n",
       "      <th>Eastern Africa</th>\n",
       "      <td>23.500000</td>\n",
       "      <td>21.538462</td>\n",
       "      <td>4.446154</td>\n",
       "    </tr>\n",
       "  </tbody>\n",
       "</table>\n",
       "</div>"
      ],
      "text/plain": [
       "                           internet_%_of_population  median_age  \\\n",
       "sub-region                                                        \n",
       "Australia and New Zealand                 88.350000   38.450000   \n",
       "Caribbean                                 64.366667   34.358333   \n",
       "Central America                           40.385714   26.357143   \n",
       "Central Asia                              39.320000   27.980000   \n",
       "Eastern Africa                            23.500000   21.538462   \n",
       "\n",
       "                           education_expenditures  \n",
       "sub-region                                         \n",
       "Australia and New Zealand                5.800000  \n",
       "Caribbean                                5.000000  \n",
       "Central America                          4.942857  \n",
       "Central Asia                             4.940000  \n",
       "Eastern Africa                           4.446154  "
      ]
     },
     "execution_count": 17,
     "metadata": {},
     "output_type": "execute_result"
    }
   ],
   "source": [
    "sub_df.head()"
   ]
  },
  {
   "cell_type": "code",
   "execution_count": 45,
   "metadata": {},
   "outputs": [
    {
     "data": {
      "image/png": "[encoded data removed]",
      "text/plain": [
       "<Figure size 432x288 with 1 Axes>"
      ]
     },
     "metadata": {
      "needs_background": "light"
     },
     "output_type": "display_data"
    }
   ],
   "source": [
    "z_trend = np.polyfit(df_filtered['median_age'], df_filtered['internet_%_of_population'], 1)\n",
    "p_trend = np.poly1d(z_trend)\n",
    "\n",
    "plt.plot(df_filtered['median_age'],p_trend(df_filtered['median_age']),\"r--\")\n",
    "plt.scatter(df_filtered['median_age'], df_filtered['internet_%_of_population'])\n",
    "plt.xlabel('Median Age')\n",
    "plt.ylabel('% of Population with Internet')\n",
    "plt.show()"
   ]
  },
  {

   "cell_type": "markdown",
   "metadata": {},
   "source": [
    "<h1>Daniela's Workspace</h1>"
   ]
  },
  {
   "cell_type": "code",
   "execution_count": 28,
   "metadata": {},
   "outputs": [],
   "source": [
    "world = merged_data.loc[merged_data.ISO3.str.contains('World')]\n"
   ]
  },
  {
   "cell_type": "code",
   "execution_count": 43,
   "metadata": {},
   "outputs": [
    {
     "data": {
      "image/png": "[encoded data removed]",
      "text/plain": [
       "<Figure size 432x288 with 1 Axes>"
      ]
     },
     "metadata": {
      "needs_background": "light"
     },
     "output_type": "display_data"
    }
   ],
   "source": [
    "#plot World Population versus Internet Users\n",
    "\n",
    "world = merged[['population', 'internet_users']].loc[]\n",
    "                        \n",
    "world.plot(kind='bar',\n",
    "           colormap='winter',\n",
    "          sharex=True,\n",
    "          )\n",
    "plt.title(\"World Population versus Internet Users in 2016 \",fontsize= 20)\n",
    "plt.ylabel(\"Population\", fontsize=14)\n",
    "plt.xlabel(\" \")\n",
    "plt.legend(['Population', \"Internet Users\"])\n",
    "\n",
    "plt.show()\n"
   ]
  },
  {
   "cell_type": "code",
   "execution_count": 30,
   "metadata": {},
   "outputs": [
    {
     "data": {
      "image/png": "[encoded data removed]",
      "text/plain": [
       "<Figure size 720x576 with 1 Axes>"
      ]
     },
     "metadata": {
      "needs_background": "light"
     },
     "output_type": "display_data"
    }
   ],
   "source": [
    "# Population versus Internet users by area\n",
    "per_sub_area = (merged_data[['region', 'population', 'internet_users']]).groupby(['region']).sum()\n",
    "\n",
    "#plot\n",
    "per_sub_area.plot(kind=\"bar\",\n",
    "                  colormap='winter',\n",
    "                  figsize=(10,8)\n",
    "                 )              \n",
    "                      \n",
    "plt.title('Population versus Internet Users by Area in 2016', fontsize=20)\n",
    "plt.ylabel(\"Population\", fontsize=14)\n",
    "plt.xlabel('')\n",
    "plt.legend(['Population', \"Internet Users\"]);\n",
    "plt.xticks(rotation =30,fontsize =14)\n",
    "\n",
    "plt.show()"
   ]
  },
  {
   "cell_type": "code",
   "execution_count": 37,
   "metadata": {},
   "outputs": [
    {
     "data": {
      "image/png": "[encoded data removed]",
      "text/plain": [
       "<Figure size 432x288 with 1 Axes>"
      ]
     },
     "metadata": {
      "needs_background": "light"
     },
     "output_type": "display_data"
    }
   ],
   "source": [
    "# What countries have almost 100% of their population using the Internet?\n",
    "\n",
    "\n",
    "top_perc_internet_population = merged_data[['country_y', 'internet_%_of_population']]\\\n",
    "                            .sort_values(by=['internet_%_of_population'], ascending=False)\\\n",
    "                            .head(10)\\\n",
    "                            .sort_values(by=['internet_%_of_population'], ascending=True)\\\n",
    "                           .set_index('country_y')\n",
    "                            \n",
    "\n",
    "top_perc_internet_population.plot(kind='barh',\n",
    "                                 use_index='True',\n",
    "                                 legend=False,\n",
    "                                 colormap='winter'\n",
    "                             )\n",
    "\n",
    "plt.title(\"Top 10 Countries That Almost Everybody Uses Internet in 2016 \", fontsize=20)\n",
    "plt.xlabel('% of Population Using the Internet', fontsize=14)\n",
    "\n",
    "plt.show()"
   ]
  },
  {
   "cell_type": "code",
   "execution_count": 20,
   "metadata": {},
   "outputs": [
    {
     "ename": "ValueError",
     "evalue": "level name internet_%_of_population is not the name of the index",
     "output_type": "error",
     "traceback": [
      "\u001b[1;31m---------------------------------------------------------------------------\u001b[0m",
      "\u001b[1;31mValueError\u001b[0m                                Traceback (most recent call last)",
      "\u001b[1;32m<ipython-input-20-e42114982b54>\u001b[0m in \u001b[0;36m<module>\u001b[1;34m\u001b[0m\n\u001b[1;32m----> 1\u001b[1;33m \u001b[0mrr\u001b[0m \u001b[1;33m=\u001b[0m \u001b[0mmerged_data\u001b[0m\u001b[1;33m.\u001b[0m\u001b[0mmax\u001b[0m\u001b[1;33m(\u001b[0m\u001b[0mlevel\u001b[0m\u001b[1;33m=\u001b[0m\u001b[1;34m'internet_%_of_population'\u001b[0m\u001b[1;33m)\u001b[0m\u001b[1;33m\u001b[0m\u001b[1;33m\u001b[0m\u001b[0m\n\u001b[0m",
      "\u001b[1;32m~\\.virtualenvs\\butterfly-effect-PqWMjf-o\\lib\\site-packages\\pandas\\core\\generic.py\u001b[0m in \u001b[0;36mstat_func\u001b[1;34m(self, axis, skipna, level, numeric_only, **kwargs)\u001b[0m\n\u001b[0;32m  11614\u001b[0m             \u001b[0maxis\u001b[0m \u001b[1;33m=\u001b[0m \u001b[0mself\u001b[0m\u001b[1;33m.\u001b[0m\u001b[0m_stat_axis_number\u001b[0m\u001b[1;33m\u001b[0m\u001b[1;33m\u001b[0m\u001b[0m\n\u001b[0;32m  11615\u001b[0m         \u001b[1;32mif\u001b[0m \u001b[0mlevel\u001b[0m \u001b[1;32mis\u001b[0m \u001b[1;32mnot\u001b[0m \u001b[1;32mNone\u001b[0m\u001b[1;33m:\u001b[0m\u001b[1;33m\u001b[0m\u001b[1;33m\u001b[0m\u001b[0m\n\u001b[1;32m> 11616\u001b[1;33m             \u001b[1;32mreturn\u001b[0m \u001b[0mself\u001b[0m\u001b[1;33m.\u001b[0m\u001b[0m_agg_by_level\u001b[0m\u001b[1;33m(\u001b[0m\u001b[0mname\u001b[0m\u001b[1;33m,\u001b[0m \u001b[0maxis\u001b[0m\u001b[1;33m=\u001b[0m\u001b[0maxis\u001b[0m\u001b[1;33m,\u001b[0m \u001b[0mlevel\u001b[0m\u001b[1;33m=\u001b[0m\u001b[0mlevel\u001b[0m\u001b[1;33m,\u001b[0m \u001b[0mskipna\u001b[0m\u001b[1;33m=\u001b[0m\u001b[0mskipna\u001b[0m\u001b[1;33m)\u001b[0m\u001b[1;33m\u001b[0m\u001b[1;33m\u001b[0m\u001b[0m\n\u001b[0m\u001b[0;32m  11617\u001b[0m         return self._reduce(\n\u001b[0;32m  11618\u001b[0m             \u001b[0mf\u001b[0m\u001b[1;33m,\u001b[0m \u001b[0mname\u001b[0m\u001b[1;33m,\u001b[0m \u001b[0maxis\u001b[0m\u001b[1;33m=\u001b[0m\u001b[0maxis\u001b[0m\u001b[1;33m,\u001b[0m \u001b[0mskipna\u001b[0m\u001b[1;33m=\u001b[0m\u001b[0mskipna\u001b[0m\u001b[1;33m,\u001b[0m \u001b[0mnumeric_only\u001b[0m\u001b[1;33m=\u001b[0m\u001b[0mnumeric_only\u001b[0m\u001b[1;33m\u001b[0m\u001b[1;33m\u001b[0m\u001b[0m\n",
      "\u001b[1;32m~\\.virtualenvs\\butterfly-effect-PqWMjf-o\\lib\\site-packages\\pandas\\core\\generic.py\u001b[0m in \u001b[0;36m_agg_by_level\u001b[1;34m(self, name, axis, level, skipna, **kwargs)\u001b[0m\n\u001b[0;32m  10438\u001b[0m         \u001b[1;32mif\u001b[0m \u001b[0maxis\u001b[0m \u001b[1;32mis\u001b[0m \u001b[1;32mNone\u001b[0m\u001b[1;33m:\u001b[0m\u001b[1;33m\u001b[0m\u001b[1;33m\u001b[0m\u001b[0m\n\u001b[0;32m  10439\u001b[0m             \u001b[1;32mraise\u001b[0m \u001b[0mValueError\u001b[0m\u001b[1;33m(\u001b[0m\u001b[1;34m\"Must specify 'axis' when aggregating by level.\"\u001b[0m\u001b[1;33m)\u001b[0m\u001b[1;33m\u001b[0m\u001b[1;33m\u001b[0m\u001b[0m\n\u001b[1;32m> 10440\u001b[1;33m         \u001b[0mgrouped\u001b[0m \u001b[1;33m=\u001b[0m \u001b[0mself\u001b[0m\u001b[1;33m.\u001b[0m\u001b[0mgroupby\u001b[0m\u001b[1;33m(\u001b[0m\u001b[0mlevel\u001b[0m\u001b[1;33m=\u001b[0m\u001b[0mlevel\u001b[0m\u001b[1;33m,\u001b[0m \u001b[0maxis\u001b[0m\u001b[1;33m=\u001b[0m\u001b[0maxis\u001b[0m\u001b[1;33m,\u001b[0m \u001b[0msort\u001b[0m\u001b[1;33m=\u001b[0m\u001b[1;32mFalse\u001b[0m\u001b[1;33m)\u001b[0m\u001b[1;33m\u001b[0m\u001b[1;33m\u001b[0m\u001b[0m\n\u001b[0m\u001b[0;32m  10441\u001b[0m         \u001b[1;32mif\u001b[0m \u001b[0mhasattr\u001b[0m\u001b[1;33m(\u001b[0m\u001b[0mgrouped\u001b[0m\u001b[1;33m,\u001b[0m \u001b[0mname\u001b[0m\u001b[1;33m)\u001b[0m \u001b[1;32mand\u001b[0m \u001b[0mskipna\u001b[0m\u001b[1;33m:\u001b[0m\u001b[1;33m\u001b[0m\u001b[1;33m\u001b[0m\u001b[0m\n\u001b[0;32m  10442\u001b[0m             \u001b[1;32mreturn\u001b[0m \u001b[0mgetattr\u001b[0m\u001b[1;33m(\u001b[0m\u001b[0mgrouped\u001b[0m\u001b[1;33m,\u001b[0m \u001b[0mname\u001b[0m\u001b[1;33m)\u001b[0m\u001b[1;33m(\u001b[0m\u001b[1;33m**\u001b[0m\u001b[0mkwargs\u001b[0m\u001b[1;33m)\u001b[0m\u001b[1;33m\u001b[0m\u001b[1;33m\u001b[0m\u001b[0m\n",
      "\u001b[1;32m~\\.virtualenvs\\butterfly-effect-PqWMjf-o\\lib\\site-packages\\pandas\\core\\generic.py\u001b[0m in \u001b[0;36mgroupby\u001b[1;34m(self, by, axis, level, as_index, sort, group_keys, squeeze, observed, **kwargs)\u001b[0m\n\u001b[0;32m   7892\u001b[0m             \u001b[0msqueeze\u001b[0m\u001b[1;33m=\u001b[0m\u001b[0msqueeze\u001b[0m\u001b[1;33m,\u001b[0m\u001b[1;33m\u001b[0m\u001b[1;33m\u001b[0m\u001b[0m\n\u001b[0;32m   7893\u001b[0m             \u001b[0mobserved\u001b[0m\u001b[1;33m=\u001b[0m\u001b[0mobserved\u001b[0m\u001b[1;33m,\u001b[0m\u001b[1;33m\u001b[0m\u001b[1;33m\u001b[0m\u001b[0m\n\u001b[1;32m-> 7894\u001b[1;33m             \u001b[1;33m**\u001b[0m\u001b[0mkwargs\u001b[0m\u001b[1;33m\u001b[0m\u001b[1;33m\u001b[0m\u001b[0m\n\u001b[0m\u001b[0;32m   7895\u001b[0m         )\n\u001b[0;32m   7896\u001b[0m \u001b[1;33m\u001b[0m\u001b[0m\n",
      "\u001b[1;32m~\\.virtualenvs\\butterfly-effect-PqWMjf-o\\lib\\site-packages\\pandas\\core\\groupby\\groupby.py\u001b[0m in \u001b[0;36mgroupby\u001b[1;34m(obj, by, **kwds)\u001b[0m\n\u001b[0;32m   2520\u001b[0m         \u001b[1;32mraise\u001b[0m \u001b[0mTypeError\u001b[0m\u001b[1;33m(\u001b[0m\u001b[1;34m\"invalid type: {}\"\u001b[0m\u001b[1;33m.\u001b[0m\u001b[0mformat\u001b[0m\u001b[1;33m(\u001b[0m\u001b[0mobj\u001b[0m\u001b[1;33m)\u001b[0m\u001b[1;33m)\u001b[0m\u001b[1;33m\u001b[0m\u001b[1;33m\u001b[0m\u001b[0m\n\u001b[0;32m   2521\u001b[0m \u001b[1;33m\u001b[0m\u001b[0m\n\u001b[1;32m-> 2522\u001b[1;33m     \u001b[1;32mreturn\u001b[0m \u001b[0mklass\u001b[0m\u001b[1;33m(\u001b[0m\u001b[0mobj\u001b[0m\u001b[1;33m,\u001b[0m \u001b[0mby\u001b[0m\u001b[1;33m,\u001b[0m \u001b[1;33m**\u001b[0m\u001b[0mkwds\u001b[0m\u001b[1;33m)\u001b[0m\u001b[1;33m\u001b[0m\u001b[1;33m\u001b[0m\u001b[0m\n\u001b[0m",
      "\u001b[1;32m~\\.virtualenvs\\butterfly-effect-PqWMjf-o\\lib\\site-packages\\pandas\\core\\groupby\\groupby.py\u001b[0m in \u001b[0;36m__init__\u001b[1;34m(self, obj, keys, axis, level, grouper, exclusions, selection, as_index, sort, group_keys, squeeze, observed, **kwargs)\u001b[0m\n\u001b[0;32m    389\u001b[0m                 \u001b[0msort\u001b[0m\u001b[1;33m=\u001b[0m\u001b[0msort\u001b[0m\u001b[1;33m,\u001b[0m\u001b[1;33m\u001b[0m\u001b[1;33m\u001b[0m\u001b[0m\n\u001b[0;32m    390\u001b[0m                 \u001b[0mobserved\u001b[0m\u001b[1;33m=\u001b[0m\u001b[0mobserved\u001b[0m\u001b[1;33m,\u001b[0m\u001b[1;33m\u001b[0m\u001b[1;33m\u001b[0m\u001b[0m\n\u001b[1;32m--> 391\u001b[1;33m                 \u001b[0mmutated\u001b[0m\u001b[1;33m=\u001b[0m\u001b[0mself\u001b[0m\u001b[1;33m.\u001b[0m\u001b[0mmutated\u001b[0m\u001b[1;33m,\u001b[0m\u001b[1;33m\u001b[0m\u001b[1;33m\u001b[0m\u001b[0m\n\u001b[0m\u001b[0;32m    392\u001b[0m             )\n\u001b[0;32m    393\u001b[0m \u001b[1;33m\u001b[0m\u001b[0m\n",
      "\u001b[1;32m~\\.virtualenvs\\butterfly-effect-PqWMjf-o\\lib\\site-packages\\pandas\\core\\groupby\\grouper.py\u001b[0m in \u001b[0;36m_get_grouper\u001b[1;34m(obj, key, axis, level, sort, observed, mutated, validate)\u001b[0m\n\u001b[0;32m    499\u001b[0m                 \u001b[1;32mif\u001b[0m \u001b[0mobj\u001b[0m\u001b[1;33m.\u001b[0m\u001b[0mindex\u001b[0m\u001b[1;33m.\u001b[0m\u001b[0mname\u001b[0m \u001b[1;33m!=\u001b[0m \u001b[0mlevel\u001b[0m\u001b[1;33m:\u001b[0m\u001b[1;33m\u001b[0m\u001b[1;33m\u001b[0m\u001b[0m\n\u001b[0;32m    500\u001b[0m                     raise ValueError(\n\u001b[1;32m--> 501\u001b[1;33m                         \u001b[1;34m\"level name {} is not the name of the \"\u001b[0m \u001b[1;34m\"index\"\u001b[0m\u001b[1;33m.\u001b[0m\u001b[0mformat\u001b[0m\u001b[1;33m(\u001b[0m\u001b[0mlevel\u001b[0m\u001b[1;33m)\u001b[0m\u001b[1;33m\u001b[0m\u001b[1;33m\u001b[0m\u001b[0m\n\u001b[0m\u001b[0;32m    502\u001b[0m                     )\n\u001b[0;32m    503\u001b[0m             \u001b[1;32melif\u001b[0m \u001b[0mlevel\u001b[0m \u001b[1;33m>\u001b[0m \u001b[1;36m0\u001b[0m \u001b[1;32mor\u001b[0m \u001b[0mlevel\u001b[0m \u001b[1;33m<\u001b[0m \u001b[1;33m-\u001b[0m\u001b[1;36m1\u001b[0m\u001b[1;33m:\u001b[0m\u001b[1;33m\u001b[0m\u001b[1;33m\u001b[0m\u001b[0m\n",
      "\u001b[1;31mValueError\u001b[0m: level name internet_%_of_population is not the name of the index"
     ]
    }
   ],
   "source": [
    "rr = merged_data.max(level='internet_%_of_population')"
   ]
  },
  {
   "cell_type": "code",
   "execution_count": 21,
   "metadata": {},
   "outputs": [],
   "source": [
    "# # check top population, internet_users, gdp and education\n",
    "\n",
    "# top_population = merged_data[['country','population', 'median_age']]\\\n",
    "#                             .sort_values(by=['population'],ascending=False)\\\n",
    "#                             .head(25)\n",
    "\n",
    "# top_internet = merged_data[['country', 'internet_users']]\\\n",
    "#                             .sort_values(by=['internet_users'], ascending=False)\\\n",
    "#                             .head(20)\\\n",
    "#                             .set_index('country')\n",
    "\n",
    "# top_gdp = merged_data[['country', 'gdp_global_rank']]\\\n",
    "#                             .sort_values(by=['gdp_global_rank'], ascending=True)\\\n",
    "#                             .head(10)\n",
    "\n",
    "# top_education = merged_data[['country', 'education_expenditures']]\\\n",
    "#                             .sort_values(by=['education_expenditures'], ascending=False)\\\n",
    "#                             .head(25)"
   ]
  },
  {
   "cell_type": "code",
   "execution_count": 22,
   "metadata": {},
   "outputs": [
    {
     "ename": "KeyError",
     "evalue": "\"['country'] not in index\"",
     "output_type": "error",
     "traceback": [
      "\u001b[1;31m---------------------------------------------------------------------------\u001b[0m",
      "\u001b[1;31mKeyError\u001b[0m                                  Traceback (most recent call last)",
      "\u001b[1;32m<ipython-input-22-d382d7d2217b>\u001b[0m in \u001b[0;36m<module>\u001b[1;34m\u001b[0m\n\u001b[0;32m      1\u001b[0m \u001b[1;31m# What countries have the lowest Internet penetration rate in 2016?\u001b[0m\u001b[1;33m\u001b[0m\u001b[1;33m\u001b[0m\u001b[1;33m\u001b[0m\u001b[0m\n\u001b[0;32m      2\u001b[0m \u001b[1;33m\u001b[0m\u001b[0m\n\u001b[1;32m----> 3\u001b[1;33m \u001b[0mless_perc_internet_population\u001b[0m \u001b[1;33m=\u001b[0m \u001b[0mmerged_data\u001b[0m\u001b[1;33m[\u001b[0m\u001b[1;33m[\u001b[0m\u001b[1;34m'country'\u001b[0m\u001b[1;33m,\u001b[0m \u001b[1;34m'internet_%_of_population'\u001b[0m\u001b[1;33m]\u001b[0m\u001b[1;33m]\u001b[0m\u001b[0;31m\\\u001b[0m\u001b[1;33m\u001b[0m\u001b[1;33m\u001b[0m\u001b[0m\n\u001b[0m\u001b[0;32m      4\u001b[0m                             \u001b[1;33m.\u001b[0m\u001b[0msort_values\u001b[0m\u001b[1;33m(\u001b[0m\u001b[0mby\u001b[0m\u001b[1;33m=\u001b[0m\u001b[1;33m[\u001b[0m\u001b[1;34m'internet_%_of_population'\u001b[0m\u001b[1;33m]\u001b[0m\u001b[1;33m,\u001b[0m \u001b[0mascending\u001b[0m\u001b[1;33m=\u001b[0m\u001b[1;32mTrue\u001b[0m\u001b[1;33m)\u001b[0m\u001b[0;31m\\\u001b[0m\u001b[1;33m\u001b[0m\u001b[1;33m\u001b[0m\u001b[0m\n\u001b[0;32m      5\u001b[0m                             \u001b[1;33m.\u001b[0m\u001b[0mhead\u001b[0m\u001b[1;33m(\u001b[0m\u001b[1;36m10\u001b[0m\u001b[1;33m)\u001b[0m\u001b[0;31m\\\u001b[0m\u001b[1;33m\u001b[0m\u001b[1;33m\u001b[0m\u001b[0m\n",
      "\u001b[1;32m~\\.virtualenvs\\butterfly-effect-PqWMjf-o\\lib\\site-packages\\pandas\\core\\frame.py\u001b[0m in \u001b[0;36m__getitem__\u001b[1;34m(self, key)\u001b[0m\n\u001b[0;32m   2999\u001b[0m             \u001b[1;32mif\u001b[0m \u001b[0mis_iterator\u001b[0m\u001b[1;33m(\u001b[0m\u001b[0mkey\u001b[0m\u001b[1;33m)\u001b[0m\u001b[1;33m:\u001b[0m\u001b[1;33m\u001b[0m\u001b[1;33m\u001b[0m\u001b[0m\n\u001b[0;32m   3000\u001b[0m                 \u001b[0mkey\u001b[0m \u001b[1;33m=\u001b[0m \u001b[0mlist\u001b[0m\u001b[1;33m(\u001b[0m\u001b[0mkey\u001b[0m\u001b[1;33m)\u001b[0m\u001b[1;33m\u001b[0m\u001b[1;33m\u001b[0m\u001b[0m\n\u001b[1;32m-> 3001\u001b[1;33m             \u001b[0mindexer\u001b[0m \u001b[1;33m=\u001b[0m \u001b[0mself\u001b[0m\u001b[1;33m.\u001b[0m\u001b[0mloc\u001b[0m\u001b[1;33m.\u001b[0m\u001b[0m_convert_to_indexer\u001b[0m\u001b[1;33m(\u001b[0m\u001b[0mkey\u001b[0m\u001b[1;33m,\u001b[0m \u001b[0maxis\u001b[0m\u001b[1;33m=\u001b[0m\u001b[1;36m1\u001b[0m\u001b[1;33m,\u001b[0m \u001b[0mraise_missing\u001b[0m\u001b[1;33m=\u001b[0m\u001b[1;32mTrue\u001b[0m\u001b[1;33m)\u001b[0m\u001b[1;33m\u001b[0m\u001b[1;33m\u001b[0m\u001b[0m\n\u001b[0m\u001b[0;32m   3002\u001b[0m \u001b[1;33m\u001b[0m\u001b[0m\n\u001b[0;32m   3003\u001b[0m         \u001b[1;31m# take() does not accept boolean indexers\u001b[0m\u001b[1;33m\u001b[0m\u001b[1;33m\u001b[0m\u001b[1;33m\u001b[0m\u001b[0m\n",
      "\u001b[1;32m~\\.virtualenvs\\butterfly-effect-PqWMjf-o\\lib\\site-packages\\pandas\\core\\indexing.py\u001b[0m in \u001b[0;36m_convert_to_indexer\u001b[1;34m(self, obj, axis, is_setter, raise_missing)\u001b[0m\n\u001b[0;32m   1283\u001b[0m                 \u001b[1;31m# When setting, missing keys are not allowed, even with .loc:\u001b[0m\u001b[1;33m\u001b[0m\u001b[1;33m\u001b[0m\u001b[1;33m\u001b[0m\u001b[0m\n\u001b[0;32m   1284\u001b[0m                 \u001b[0mkwargs\u001b[0m \u001b[1;33m=\u001b[0m \u001b[1;33m{\u001b[0m\u001b[1;34m\"raise_missing\"\u001b[0m\u001b[1;33m:\u001b[0m \u001b[1;32mTrue\u001b[0m \u001b[1;32mif\u001b[0m \u001b[0mis_setter\u001b[0m \u001b[1;32melse\u001b[0m \u001b[0mraise_missing\u001b[0m\u001b[1;33m}\u001b[0m\u001b[1;33m\u001b[0m\u001b[1;33m\u001b[0m\u001b[0m\n\u001b[1;32m-> 1285\u001b[1;33m                 \u001b[1;32mreturn\u001b[0m \u001b[0mself\u001b[0m\u001b[1;33m.\u001b[0m\u001b[0m_get_listlike_indexer\u001b[0m\u001b[1;33m(\u001b[0m\u001b[0mobj\u001b[0m\u001b[1;33m,\u001b[0m \u001b[0maxis\u001b[0m\u001b[1;33m,\u001b[0m \u001b[1;33m**\u001b[0m\u001b[0mkwargs\u001b[0m\u001b[1;33m)\u001b[0m\u001b[1;33m[\u001b[0m\u001b[1;36m1\u001b[0m\u001b[1;33m]\u001b[0m\u001b[1;33m\u001b[0m\u001b[1;33m\u001b[0m\u001b[0m\n\u001b[0m\u001b[0;32m   1286\u001b[0m         \u001b[1;32melse\u001b[0m\u001b[1;33m:\u001b[0m\u001b[1;33m\u001b[0m\u001b[1;33m\u001b[0m\u001b[0m\n\u001b[0;32m   1287\u001b[0m             \u001b[1;32mtry\u001b[0m\u001b[1;33m:\u001b[0m\u001b[1;33m\u001b[0m\u001b[1;33m\u001b[0m\u001b[0m\n",
      "\u001b[1;32m~\\.virtualenvs\\butterfly-effect-PqWMjf-o\\lib\\site-packages\\pandas\\core\\indexing.py\u001b[0m in \u001b[0;36m_get_listlike_indexer\u001b[1;34m(self, key, axis, raise_missing)\u001b[0m\n\u001b[0;32m   1090\u001b[0m \u001b[1;33m\u001b[0m\u001b[0m\n\u001b[0;32m   1091\u001b[0m         self._validate_read_indexer(\n\u001b[1;32m-> 1092\u001b[1;33m             \u001b[0mkeyarr\u001b[0m\u001b[1;33m,\u001b[0m \u001b[0mindexer\u001b[0m\u001b[1;33m,\u001b[0m \u001b[0mo\u001b[0m\u001b[1;33m.\u001b[0m\u001b[0m_get_axis_number\u001b[0m\u001b[1;33m(\u001b[0m\u001b[0maxis\u001b[0m\u001b[1;33m)\u001b[0m\u001b[1;33m,\u001b[0m \u001b[0mraise_missing\u001b[0m\u001b[1;33m=\u001b[0m\u001b[0mraise_missing\u001b[0m\u001b[1;33m\u001b[0m\u001b[1;33m\u001b[0m\u001b[0m\n\u001b[0m\u001b[0;32m   1093\u001b[0m         )\n\u001b[0;32m   1094\u001b[0m         \u001b[1;32mreturn\u001b[0m \u001b[0mkeyarr\u001b[0m\u001b[1;33m,\u001b[0m \u001b[0mindexer\u001b[0m\u001b[1;33m\u001b[0m\u001b[1;33m\u001b[0m\u001b[0m\n",
      "\u001b[1;32m~\\.virtualenvs\\butterfly-effect-PqWMjf-o\\lib\\site-packages\\pandas\\core\\indexing.py\u001b[0m in \u001b[0;36m_validate_read_indexer\u001b[1;34m(self, key, indexer, axis, raise_missing)\u001b[0m\n\u001b[0;32m   1183\u001b[0m             \u001b[1;32mif\u001b[0m \u001b[1;32mnot\u001b[0m \u001b[1;33m(\u001b[0m\u001b[0mself\u001b[0m\u001b[1;33m.\u001b[0m\u001b[0mname\u001b[0m \u001b[1;33m==\u001b[0m \u001b[1;34m\"loc\"\u001b[0m \u001b[1;32mand\u001b[0m \u001b[1;32mnot\u001b[0m \u001b[0mraise_missing\u001b[0m\u001b[1;33m)\u001b[0m\u001b[1;33m:\u001b[0m\u001b[1;33m\u001b[0m\u001b[1;33m\u001b[0m\u001b[0m\n\u001b[0;32m   1184\u001b[0m                 \u001b[0mnot_found\u001b[0m \u001b[1;33m=\u001b[0m \u001b[0mlist\u001b[0m\u001b[1;33m(\u001b[0m\u001b[0mset\u001b[0m\u001b[1;33m(\u001b[0m\u001b[0mkey\u001b[0m\u001b[1;33m)\u001b[0m \u001b[1;33m-\u001b[0m \u001b[0mset\u001b[0m\u001b[1;33m(\u001b[0m\u001b[0max\u001b[0m\u001b[1;33m)\u001b[0m\u001b[1;33m)\u001b[0m\u001b[1;33m\u001b[0m\u001b[1;33m\u001b[0m\u001b[0m\n\u001b[1;32m-> 1185\u001b[1;33m                 \u001b[1;32mraise\u001b[0m \u001b[0mKeyError\u001b[0m\u001b[1;33m(\u001b[0m\u001b[1;34m\"{} not in index\"\u001b[0m\u001b[1;33m.\u001b[0m\u001b[0mformat\u001b[0m\u001b[1;33m(\u001b[0m\u001b[0mnot_found\u001b[0m\u001b[1;33m)\u001b[0m\u001b[1;33m)\u001b[0m\u001b[1;33m\u001b[0m\u001b[1;33m\u001b[0m\u001b[0m\n\u001b[0m\u001b[0;32m   1186\u001b[0m \u001b[1;33m\u001b[0m\u001b[0m\n\u001b[0;32m   1187\u001b[0m             \u001b[1;31m# we skip the warning on Categorical/Interval\u001b[0m\u001b[1;33m\u001b[0m\u001b[1;33m\u001b[0m\u001b[1;33m\u001b[0m\u001b[0m\n",
      "\u001b[1;31mKeyError\u001b[0m: \"['country'] not in index\""
     ]
    }
   ],
   "source": [
    "# What countries have the lowest Internet penetration rate in 2016?\n",
    "\n",
    "less_perc_internet_population = merged_data[['country_y', 'internet_%_of_population']]\\\n",
    "                            .sort_values(by=['internet_%_of_population'], ascending=True)\\\n",
    "                            .head(10)\\\n",
    "                            .set_index('country_y')\n",
    "\n",
    "\n",
    "less_perc_internet_population.plot(kind='barh',\n",
    "                                  colormap='winter')\n",
    "\n",
    "plt.title(\"Top 10 Countries With Lowest Internet Penetration Rate in 2016\", fontsize=20)\n",
    "plt.xlabel('% of Population Using the Internet', fontsize=14)\n",
    "plt.ylabel('')\n",
    "\n",
    "plt.show()\n",
    "\n",
    "\n"
   ]
  },
  {
   "cell_type": "code",
   "execution_count": null,
   "metadata": {},
   "outputs": [],
   "source": []
  },
  {
   "cell_type": "markdown",
   "metadata": {},
   "source": [
    "<h1>Cesar's Workspace</h1>"
   ]
  },
  {
   "cell_type": "code",
   "execution_count": null,
   "metadata": {},
   "outputs": [],
   "source": []
  },
  {
   "cell_type": "markdown",
   "metadata": {},
   "source": [
    "<h1>Color Map</h1>"
   ]
  },
  {
   "cell_type": "code",
   "execution_count": null,
   "metadata": {},
   "outputs": [],
   "source": []
  },
  {
   "cell_type": "markdown",
   "metadata": {},
   "source": [
    "<h1>Cleaned Data Output</h1>"
   ]
  },
  {
   "cell_type": "code",
   "execution_count": 35,
   "metadata": {},
   "outputs": [],
   "source": [
    "merged_data.columns = merged_data.columns.str.title().str.replace('_', ' ')\n",
    "merged_data = merged_data.rename(columns = {'Iso3': 'ISO3', 'Country Y': 'Country'})"
   ]
  },
  {
   "cell_type": "code",
   "execution_count": 36,
   "metadata": {},
   "outputs": [
    {
     "data": {
      "text/html": [
       "<div>\n",
       "<style scoped>\n",
       "    .dataframe tbody tr th:only-of-type {\n",
       "        vertical-align: middle;\n",
       "    }\n",
       "\n",
       "    .dataframe tbody tr th {\n",
       "        vertical-align: top;\n",
       "    }\n",
       "\n",
       "    .dataframe thead th {\n",
       "        text-align: right;\n",
       "    }\n",
       "</style>\n",
       "<table border=\"1\" class=\"dataframe\">\n",
       "  <thead>\n",
       "    <tr style=\"text-align: right;\">\n",
       "      <th></th>\n",
       "      <th>ISO3</th>\n",
       "      <th>Country</th>\n",
       "      <th>Region</th>\n",
       "      <th>Sub-Region</th>\n",
       "      <th>Latitude</th>\n",
       "      <th>Longitude</th>\n",
       "      <th>Borders</th>\n",
       "      <th>Population</th>\n",
       "      <th>Internet Users</th>\n",
       "      <th>Internet % Of Population</th>\n",
       "      <th>Median Age</th>\n",
       "      <th>Education Expenditures</th>\n",
       "    </tr>\n",
       "  </thead>\n",
       "  <tbody>\n",
       "    <tr>\n",
       "      <th>0</th>\n",
       "      <td>AFG</td>\n",
       "      <td>Afghanistan</td>\n",
       "      <td>Asia</td>\n",
       "      <td>Southern Asia</td>\n",
       "      <td>33</td>\n",
       "      <td>65</td>\n",
       "      <td>[IRN, PAK, TKM, UZB, TJK, CHN]</td>\n",
       "      <td>34940837.0</td>\n",
       "      <td>3531770.0</td>\n",
       "      <td>10.6</td>\n",
       "      <td>19.0</td>\n",
       "      <td>3.9</td>\n",
       "    </tr>\n",
       "    <tr>\n",
       "      <th>1</th>\n",
       "      <td>ALB</td>\n",
       "      <td>Albania</td>\n",
       "      <td>Europe</td>\n",
       "      <td>Southern Europe</td>\n",
       "      <td>41</td>\n",
       "      <td>20</td>\n",
       "      <td>[MNE, GRC, MKD, KOS]</td>\n",
       "      <td>3057220.0</td>\n",
       "      <td>2016516.0</td>\n",
       "      <td>66.4</td>\n",
       "      <td>33.4</td>\n",
       "      <td>4.0</td>\n",
       "    </tr>\n",
       "    <tr>\n",
       "      <th>2</th>\n",
       "      <td>DZA</td>\n",
       "      <td>Algeria</td>\n",
       "      <td>Africa</td>\n",
       "      <td>Northern Africa</td>\n",
       "      <td>28</td>\n",
       "      <td>3</td>\n",
       "      <td>[TUN, LBY, NER, ESH, MRT, MLI, MAR]</td>\n",
       "      <td>41657488.0</td>\n",
       "      <td>17291463.0</td>\n",
       "      <td>42.9</td>\n",
       "      <td>28.3</td>\n",
       "      <td>NaN</td>\n",
       "    </tr>\n",
       "    <tr>\n",
       "      <th>3</th>\n",
       "      <td>ASM</td>\n",
       "      <td>American Samoa</td>\n",
       "      <td>Oceania</td>\n",
       "      <td>Polynesia</td>\n",
       "      <td>-14.3333</td>\n",
       "      <td>-170</td>\n",
       "      <td>[]</td>\n",
       "      <td>50826.0</td>\n",
       "      <td>17000.0</td>\n",
       "      <td>31.3</td>\n",
       "      <td>26.1</td>\n",
       "      <td>NaN</td>\n",
       "    </tr>\n",
       "    <tr>\n",
       "      <th>4</th>\n",
       "      <td>AND</td>\n",
       "      <td>Andorra</td>\n",
       "      <td>Europe</td>\n",
       "      <td>Southern Europe</td>\n",
       "      <td>42.5</td>\n",
       "      <td>1.5</td>\n",
       "      <td>[FRA, ESP]</td>\n",
       "      <td>85708.0</td>\n",
       "      <td>83887.0</td>\n",
       "      <td>97.9</td>\n",
       "      <td>44.9</td>\n",
       "      <td>3.2</td>\n",
       "    </tr>\n",
       "  </tbody>\n",
       "</table>\n",
       "</div>"
      ],
      "text/plain": [
       "  ISO3         Country   Region       Sub-Region Latitude Longitude  \\\n",
       "0  AFG     Afghanistan     Asia    Southern Asia       33        65   \n",
       "1  ALB         Albania   Europe  Southern Europe       41        20   \n",
       "2  DZA         Algeria   Africa  Northern Africa       28         3   \n",
       "3  ASM  American Samoa  Oceania        Polynesia -14.3333      -170   \n",
       "4  AND         Andorra   Europe  Southern Europe     42.5       1.5   \n",
       "\n",
       "                               Borders  Population  Internet Users  \\\n",
       "0       [IRN, PAK, TKM, UZB, TJK, CHN]  34940837.0       3531770.0   \n",
       "1                 [MNE, GRC, MKD, KOS]   3057220.0       2016516.0   \n",
       "2  [TUN, LBY, NER, ESH, MRT, MLI, MAR]  41657488.0      17291463.0   \n",
       "3                                   []     50826.0         17000.0   \n",
       "4                           [FRA, ESP]     85708.0         83887.0   \n",
       "\n",
       "   Internet % Of Population  Median Age  Education Expenditures  \n",
       "0                      10.6        19.0                     3.9  \n",
       "1                      66.4        33.4                     4.0  \n",
       "2                      42.9        28.3                     NaN  \n",
       "3                      31.3        26.1                     NaN  \n",
       "4                      97.9        44.9                     3.2  "
      ]
     },
     "execution_count": 36,
     "metadata": {},
     "output_type": "execute_result"
    }
   ],
   "source": [
    "merged_data.head()"
   ]
  },
  {
   "cell_type": "code",
   "execution_count": 37,
   "metadata": {},
   "outputs": [],
   "source": [
    "merged_data.to_csv('new_merged.csv')"
   ]
  },
  {
   "cell_type": "code",
   "execution_count": null,
   "metadata": {},
   "outputs": [],
   "source": []
  }
 ],
 "metadata": {
  "kernelspec": {
   "display_name": "project1",
   "language": "python",
   "name": "project1"
  },
  "language_info": {
   "codemirror_mode": {
    "name": "ipython",
    "version": 3
   },
   "file_extension": ".py",
   "mimetype": "text/x-python",
   "name": "python",
   "nbconvert_exporter": "python",
   "pygments_lexer": "ipython3",
   "version": "3.7.5"
  }
 },
 "nbformat": 4,
 "nbformat_minor": 4
}
