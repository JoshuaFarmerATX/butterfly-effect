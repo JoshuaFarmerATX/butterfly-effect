{
 "cells": [
  {
   "cell_type": "code",
<<<<<<< HEAD
   "execution_count": 43,
=======
   "execution_count": 1,
>>>>>>> c8a5636976b9905efad4cdfcdf7bce40990d4adf
   "metadata": {},
   "outputs": [],
   "source": [
    "import pandas as pd\n",
    "import matplotlib.pyplot as plt\n",
    "import numpy as np\n",
    "from pprint import pprint\n",
    "import requests\n",
    "import json\n",
    "import data_import\n",
<<<<<<< HEAD
    "import gmaps\n",
    "import country_converter as coco"
=======
    "import api_keys"
>>>>>>> c8a5636976b9905efad4cdfcdf7bce40990d4adf
   ]
  },
  {
   "cell_type": "code",
<<<<<<< HEAD
   "execution_count": 44,
=======
   "execution_count": 38,
>>>>>>> c8a5636976b9905efad4cdfcdf7bce40990d4adf
   "metadata": {},
   "outputs": [],
   "source": [
    "rest_df = data_import.get_rest_countries()"
   ]
  },
  {
   "cell_type": "code",
<<<<<<< HEAD
   "execution_count": 45,
=======
   "execution_count": 39,
>>>>>>> c8a5636976b9905efad4cdfcdf7bce40990d4adf
   "metadata": {},
   "outputs": [],
   "source": [
    "cia_df = data_import.get_cia_data()"
   ]
  },
  {
   "cell_type": "code",
<<<<<<< HEAD
   "execution_count": 91,
   "metadata": {},
   "outputs": [
    {
     "name": "stderr",
     "output_type": "stream",
     "text": [
      "WARNING:root:World not found in regex\n",
      "WARNING:root:Akrotiri not found in regex\n",
      "WARNING:root:Arctic Ocean not found in regex\n",
      "WARNING:root:Ashmore And Cartier Islands not found in regex\n",
      "WARNING:root:Atlantic Ocean not found in regex\n",
      "WARNING:root:Clipperton Island not found in regex\n",
      "WARNING:root:Coral Sea Islands not found in regex\n",
      "WARNING:root:Dhekelia not found in regex\n",
      "WARNING:root:Indian Ocean not found in regex\n",
      "WARNING:root:Jan Mayen not found in regex\n",
      "WARNING:root:Navassa Island not found in regex\n",
      "WARNING:root:Pacific Ocean not found in regex\n",
      "WARNING:root:Paracel Islands not found in regex\n",
      "WARNING:root:Southern Ocean not found in regex\n",
      "WARNING:root:Spratly Islands not found in regex\n",
      "WARNING:root:Virgin Islands not found in regex\n",
      "WARNING:root:Wake Island not found in regex\n",
      "WARNING:root:European Union not found in regex\n",
      "WARNING:root:World not found in regex\n",
      "WARNING:root:Akrotiri not found in regex\n",
      "WARNING:root:Arctic Ocean not found in regex\n",
      "WARNING:root:Ashmore And Cartier Islands not found in regex\n",
      "WARNING:root:Atlantic Ocean not found in regex\n",
      "WARNING:root:Clipperton Island not found in regex\n",
      "WARNING:root:Coral Sea Islands not found in regex\n",
      "WARNING:root:Dhekelia not found in regex\n",
      "WARNING:root:Indian Ocean not found in regex\n",
      "WARNING:root:Jan Mayen not found in regex\n",
      "WARNING:root:Navassa Island not found in regex\n",
      "WARNING:root:Pacific Ocean not found in regex\n",
      "WARNING:root:Paracel Islands not found in regex\n",
      "WARNING:root:Southern Ocean not found in regex\n",
      "WARNING:root:Spratly Islands not found in regex\n",
      "WARNING:root:Virgin Islands not found in regex\n",
      "WARNING:root:Wake Island not found in regex\n",
      "WARNING:root:European Union not found in regex\n"
     ]
    },
=======
   "execution_count": 40,
   "metadata": {},
   "outputs": [],
   "source": [
    "merged_data = pd.merge(rest_df, cia_df, how = 'inner', on = 'country')"
   ]
  },
  {
   "cell_type": "code",
   "execution_count": 41,
   "metadata": {},
   "outputs": [],
   "source": [
    "off_rest_data = rest_df[~rest_df.country.isin(cia_df.country)]"
   ]
  },
  {
   "cell_type": "code",
   "execution_count": 42,
   "metadata": {},
   "outputs": [],
   "source": [
    "off_cia_data = cia_df[~cia_df.country.isin(rest_df.country)]"
   ]
  },
  {
   "cell_type": "code",
   "execution_count": 43,
   "metadata": {},
   "outputs": [
>>>>>>> c8a5636976b9905efad4cdfcdf7bce40990d4adf
    {
     "data": {
      "text/html": [
       "<div>\n",
       "<style scoped>\n",
       "    .dataframe tbody tr th:only-of-type {\n",
       "        vertical-align: middle;\n",
       "    }\n",
       "\n",
       "    .dataframe tbody tr th {\n",
       "        vertical-align: top;\n",
       "    }\n",
       "\n",
       "    .dataframe thead th {\n",
       "        text-align: right;\n",
       "    }\n",
       "</style>\n",
       "<table border=\"1\" class=\"dataframe\">\n",
       "  <thead>\n",
       "    <tr style=\"text-align: right;\">\n",
       "      <th></th>\n",
       "      <th>country</th>\n",
<<<<<<< HEAD
       "      <th>population</th>\n",
       "      <th>internet_users</th>\n",
       "      <th>internet_%_of_population</th>\n",
       "      <th>internet_global_rank</th>\n",
       "      <th>telephones_fixed_lines</th>\n",
       "      <th>telephone_mobile_cellular</th>\n",
       "      <th>median_age</th>\n",
       "      <th>gdp_purchasing_power_parity</th>\n",
       "      <th>gdp_global_rank</th>\n",
       "      <th>education_expenditures</th>\n",
       "      <th>education_expeditures_global_rank</th>\n",
       "      <th>ISO3</th>\n",
=======
>>>>>>> c8a5636976b9905efad4cdfcdf7bce40990d4adf
       "    </tr>\n",
       "  </thead>\n",
       "  <tbody>\n",
       "    <tr>\n",
       "      <th>0</th>\n",
       "      <td>World</td>\n",
<<<<<<< HEAD
       "      <td>7.503828e+09</td>\n",
       "      <td>3.174000e+09</td>\n",
       "      <td>43.0</td>\n",
       "      <td>NaN</td>\n",
       "      <td>984289950</td>\n",
       "      <td>7.806143e+09</td>\n",
       "      <td>30.6</td>\n",
       "      <td>1.278000e+14</td>\n",
       "      <td>NaN</td>\n",
       "      <td>NaN</td>\n",
       "      <td>NaN</td>\n",
       "      <td>World</td>\n",
       "    </tr>\n",
       "    <tr>\n",
       "      <th>1</th>\n",
       "      <td>Afghanistan</td>\n",
       "      <td>3.494084e+07</td>\n",
       "      <td>3.531770e+06</td>\n",
       "      <td>10.6</td>\n",
       "      <td>NaN</td>\n",
       "      <td>118769</td>\n",
       "      <td>2.392971e+07</td>\n",
       "      <td>19.0</td>\n",
       "      <td>6.945000e+10</td>\n",
       "      <td>101.0</td>\n",
       "      <td>3.9</td>\n",
       "      <td>111.0</td>\n",
       "      <td>AFG</td>\n",
       "    </tr>\n",
       "    <tr>\n",
       "      <th>2</th>\n",
       "      <td>Akrotiri</td>\n",
       "      <td>1.550000e+04</td>\n",
       "      <td>NaN</td>\n",
       "      <td>NaN</td>\n",
       "      <td>NaN</td>\n",
       "      <td>NaN</td>\n",
       "      <td>NaN</td>\n",
       "      <td>NaN</td>\n",
       "      <td>NaN</td>\n",
       "      <td>NaN</td>\n",
       "      <td>NaN</td>\n",
       "      <td>NaN</td>\n",
       "      <td>Akrotiri</td>\n",
       "    </tr>\n",
       "    <tr>\n",
       "      <th>3</th>\n",
       "      <td>Albania</td>\n",
       "      <td>3.057220e+06</td>\n",
       "      <td>2.016516e+06</td>\n",
       "      <td>66.4</td>\n",
       "      <td>110.0</td>\n",
       "      <td>247010</td>\n",
       "      <td>3.497950e+06</td>\n",
       "      <td>33.4</td>\n",
       "      <td>3.601000e+10</td>\n",
       "      <td>125.0</td>\n",
       "      <td>4.0</td>\n",
       "      <td>108.0</td>\n",
       "      <td>ALB</td>\n",
       "    </tr>\n",
       "    <tr>\n",
       "      <th>4</th>\n",
       "      <td>Algeria</td>\n",
       "      <td>4.165749e+07</td>\n",
       "      <td>1.729146e+07</td>\n",
       "      <td>42.9</td>\n",
       "      <td>36.0</td>\n",
       "      <td>3130090</td>\n",
       "      <td>4.987339e+07</td>\n",
       "      <td>28.3</td>\n",
       "      <td>6.300000e+11</td>\n",
       "      <td>36.0</td>\n",
       "      <td>NaN</td>\n",
       "      <td>NaN</td>\n",
       "      <td>DZA</td>\n",
       "    </tr>\n",
       "    <tr>\n",
       "      <th>...</th>\n",
       "      <td>...</td>\n",
       "      <td>...</td>\n",
       "      <td>...</td>\n",
       "      <td>...</td>\n",
       "      <td>...</td>\n",
       "      <td>...</td>\n",
       "      <td>...</td>\n",
       "      <td>...</td>\n",
       "      <td>...</td>\n",
       "      <td>...</td>\n",
       "      <td>...</td>\n",
       "      <td>...</td>\n",
       "      <td>...</td>\n",
       "    </tr>\n",
       "    <tr>\n",
       "      <th>254</th>\n",
       "      <td>Western Sahara</td>\n",
       "      <td>6.195510e+05</td>\n",
       "      <td>NaN</td>\n",
       "      <td>NaN</td>\n",
       "      <td>NaN</td>\n",
       "      <td>NaN</td>\n",
       "      <td>NaN</td>\n",
       "      <td>21.5</td>\n",
       "      <td>9.065000e+08</td>\n",
       "      <td>205.0</td>\n",
       "      <td>NaN</td>\n",
       "      <td>NaN</td>\n",
       "      <td>ESH</td>\n",
       "    </tr>\n",
       "    <tr>\n",
       "      <th>255</th>\n",
       "      <td>Yemen</td>\n",
       "      <td>2.866723e+07</td>\n",
       "      <td>6.732928e+06</td>\n",
       "      <td>24.6</td>\n",
       "      <td>62.0</td>\n",
       "      <td>1165828</td>\n",
       "      <td>1.643306e+07</td>\n",
       "      <td>19.8</td>\n",
       "      <td>7.363000e+10</td>\n",
       "      <td>97.0</td>\n",
       "      <td>NaN</td>\n",
       "      <td>NaN</td>\n",
       "      <td>YEM</td>\n",
       "    </tr>\n",
       "    <tr>\n",
       "      <th>256</th>\n",
       "      <td>Zambia</td>\n",
       "      <td>1.644508e+07</td>\n",
       "      <td>3.956252e+06</td>\n",
       "      <td>25.5</td>\n",
       "      <td>88.0</td>\n",
       "      <td>101444</td>\n",
       "      <td>1.343854e+07</td>\n",
       "      <td>16.8</td>\n",
       "      <td>6.893000e+10</td>\n",
       "      <td>102.0</td>\n",
       "      <td>NaN</td>\n",
       "      <td>NaN</td>\n",
       "      <td>ZMB</td>\n",
       "    </tr>\n",
       "    <tr>\n",
       "      <th>257</th>\n",
       "      <td>Zimbabwe</td>\n",
       "      <td>1.403037e+07</td>\n",
       "      <td>3.363256e+06</td>\n",
       "      <td>23.1</td>\n",
       "      <td>92.0</td>\n",
       "      <td>264150</td>\n",
       "      <td>1.409210e+07</td>\n",
       "      <td>20.2</td>\n",
       "      <td>3.427000e+10</td>\n",
       "      <td>127.0</td>\n",
       "      <td>7.5</td>\n",
       "      <td>10.0</td>\n",
       "      <td>ZWE</td>\n",
       "    </tr>\n",
       "    <tr>\n",
       "      <th>258</th>\n",
       "      <td>European Union</td>\n",
       "      <td>5.171113e+08</td>\n",
       "      <td>3.981000e+08</td>\n",
       "      <td>77.0</td>\n",
       "      <td>NaN</td>\n",
       "      <td>210621546</td>\n",
       "      <td>6.250008e+08</td>\n",
       "      <td>43.2</td>\n",
       "      <td>2.085000e+13</td>\n",
       "      <td>NaN</td>\n",
       "      <td>5.0</td>\n",
       "      <td>NaN</td>\n",
       "      <td>European Union</td>\n",
=======
       "    </tr>\n",
       "    <tr>\n",
       "      <th>2</th>\n",
       "      <td>Akrotiri</td>\n",
       "    </tr>\n",
       "    <tr>\n",
       "      <th>10</th>\n",
       "      <td>Antigua And Barbuda</td>\n",
       "    </tr>\n",
       "    <tr>\n",
       "      <th>11</th>\n",
       "      <td>Arctic Ocean</td>\n",
       "    </tr>\n",
       "    <tr>\n",
       "      <th>15</th>\n",
       "      <td>Ashmore And Cartier Islands</td>\n",
       "    </tr>\n",
       "    <tr>\n",
       "      <th>16</th>\n",
       "      <td>Atlantic Ocean</td>\n",
       "    </tr>\n",
       "    <tr>\n",
       "      <th>20</th>\n",
       "      <td>Bahamas, The</td>\n",
       "    </tr>\n",
       "    <tr>\n",
       "      <th>30</th>\n",
       "      <td>Bolivia</td>\n",
       "    </tr>\n",
       "    <tr>\n",
       "      <th>31</th>\n",
       "      <td>Bosnia And Herzegovina</td>\n",
       "    </tr>\n",
       "    <tr>\n",
       "      <th>36</th>\n",
       "      <td>British Virgin Islands</td>\n",
       "    </tr>\n",
       "    <tr>\n",
       "      <th>37</th>\n",
       "      <td>Brunei</td>\n",
       "    </tr>\n",
       "    <tr>\n",
       "      <th>40</th>\n",
       "      <td>Burma</td>\n",
       "    </tr>\n",
       "    <tr>\n",
       "      <th>52</th>\n",
       "      <td>Clipperton Island</td>\n",
       "    </tr>\n",
       "    <tr>\n",
       "      <th>56</th>\n",
       "      <td>Congo, Democratic Republic Of The</td>\n",
       "    </tr>\n",
       "    <tr>\n",
       "      <th>57</th>\n",
       "      <td>Congo, Republic Of The</td>\n",
       "    </tr>\n",
       "    <tr>\n",
       "      <th>59</th>\n",
       "      <td>Coral Sea Islands</td>\n",
       "    </tr>\n",
       "    <tr>\n",
       "      <th>61</th>\n",
       "      <td>Cote D'Ivoire</td>\n",
       "    </tr>\n",
       "    <tr>\n",
       "      <th>64</th>\n",
       "      <td>Curacao</td>\n",
       "    </tr>\n",
       "    <tr>\n",
       "      <th>66</th>\n",
       "      <td>Czechia</td>\n",
       "    </tr>\n",
       "    <tr>\n",
       "      <th>68</th>\n",
       "      <td>Dhekelia</td>\n",
       "    </tr>\n",
       "    <tr>\n",
       "      <th>78</th>\n",
       "      <td>Eswatini</td>\n",
       "    </tr>\n",
       "    <tr>\n",
       "      <th>80</th>\n",
       "      <td>Falkland Islands (Islas Malvinas)</td>\n",
       "    </tr>\n",
       "    <tr>\n",
       "      <th>87</th>\n",
       "      <td>Gambia, The</td>\n",
       "    </tr>\n",
       "    <tr>\n",
       "      <th>88</th>\n",
       "      <td>Gaza Strip</td>\n",
       "    </tr>\n",
       "    <tr>\n",
       "      <th>103</th>\n",
       "      <td>Heard Island And Mcdonald Islands</td>\n",
       "    </tr>\n",
       "    <tr>\n",
       "      <th>104</th>\n",
       "      <td>Holy See (Vatican City)</td>\n",
       "    </tr>\n",
       "    <tr>\n",
       "      <th>110</th>\n",
       "      <td>Indian Ocean</td>\n",
       "    </tr>\n",
       "    <tr>\n",
       "      <th>112</th>\n",
       "      <td>Iran</td>\n",
       "    </tr>\n",
       "    <tr>\n",
       "      <th>115</th>\n",
       "      <td>Isle Of Man</td>\n",
       "    </tr>\n",
       "    <tr>\n",
       "      <th>119</th>\n",
       "      <td>Jan Mayen</td>\n",
       "    </tr>\n",
       "    <tr>\n",
       "      <th>126</th>\n",
       "      <td>Korea, North</td>\n",
       "    </tr>\n",
       "    <tr>\n",
       "      <th>127</th>\n",
       "      <td>Korea, South</td>\n",
       "    </tr>\n",
       "    <tr>\n",
       "      <th>128</th>\n",
       "      <td>Kosovo</td>\n",
       "    </tr>\n",
       "    <tr>\n",
       "      <th>131</th>\n",
       "      <td>Laos</td>\n",
       "    </tr>\n",
       "    <tr>\n",
       "      <th>140</th>\n",
       "      <td>Macau</td>\n",
       "    </tr>\n",
       "    <tr>\n",
       "      <th>151</th>\n",
       "      <td>Micronesia, Federated States Of</td>\n",
       "    </tr>\n",
       "    <tr>\n",
       "      <th>152</th>\n",
       "      <td>Moldova</td>\n",
       "    </tr>\n",
       "    <tr>\n",
       "      <th>161</th>\n",
       "      <td>Navassa Island</td>\n",
       "    </tr>\n",
       "    <tr>\n",
       "      <th>171</th>\n",
       "      <td>North Macedonia</td>\n",
       "    </tr>\n",
       "    <tr>\n",
       "      <th>175</th>\n",
       "      <td>Pacific Ocean</td>\n",
       "    </tr>\n",
       "    <tr>\n",
       "      <th>180</th>\n",
       "      <td>Paracel Islands</td>\n",
       "    </tr>\n",
       "    <tr>\n",
       "      <th>184</th>\n",
       "      <td>Pitcairn Islands</td>\n",
       "    </tr>\n",
       "    <tr>\n",
       "      <th>190</th>\n",
       "      <td>Russia</td>\n",
       "    </tr>\n",
       "    <tr>\n",
       "      <th>192</th>\n",
       "      <td>Saint Barthelemy</td>\n",
       "    </tr>\n",
       "    <tr>\n",
       "      <th>193</th>\n",
       "      <td>Saint Helena, Ascension, And Tristan Da Cunha</td>\n",
       "    </tr>\n",
       "    <tr>\n",
       "      <th>194</th>\n",
       "      <td>Saint Kitts And Nevis</td>\n",
       "    </tr>\n",
       "    <tr>\n",
       "      <th>196</th>\n",
       "      <td>Saint Martin</td>\n",
       "    </tr>\n",
       "    <tr>\n",
       "      <th>197</th>\n",
       "      <td>Saint Pierre And Miquelon</td>\n",
       "    </tr>\n",
       "    <tr>\n",
       "      <th>198</th>\n",
       "      <td>Saint Vincent And The Grenadines</td>\n",
       "    </tr>\n",
       "    <tr>\n",
       "      <th>201</th>\n",
       "      <td>Sao Tome And Principe</td>\n",
>>>>>>> c8a5636976b9905efad4cdfcdf7bce40990d4adf
       "    </tr>\n",
       "  </tbody>\n",
       "</table>\n",
       "<p>259 rows × 13 columns</p>\n",
       "</div>"
      ],
      "text/plain": [
<<<<<<< HEAD
       "            country    population  internet_users  internet_%_of_population  \\\n",
       "0             World  7.503828e+09    3.174000e+09                      43.0   \n",
       "1       Afghanistan  3.494084e+07    3.531770e+06                      10.6   \n",
       "2          Akrotiri  1.550000e+04             NaN                       NaN   \n",
       "3           Albania  3.057220e+06    2.016516e+06                      66.4   \n",
       "4           Algeria  4.165749e+07    1.729146e+07                      42.9   \n",
       "..              ...           ...             ...                       ...   \n",
       "254  Western Sahara  6.195510e+05             NaN                       NaN   \n",
       "255           Yemen  2.866723e+07    6.732928e+06                      24.6   \n",
       "256          Zambia  1.644508e+07    3.956252e+06                      25.5   \n",
       "257        Zimbabwe  1.403037e+07    3.363256e+06                      23.1   \n",
       "258  European Union  5.171113e+08    3.981000e+08                      77.0   \n",
       "\n",
       "     internet_global_rank telephones_fixed_lines  telephone_mobile_cellular  \\\n",
       "0                     NaN              984289950               7.806143e+09   \n",
       "1                     NaN                 118769               2.392971e+07   \n",
       "2                     NaN                    NaN                        NaN   \n",
       "3                   110.0                 247010               3.497950e+06   \n",
       "4                    36.0                3130090               4.987339e+07   \n",
       "..                    ...                    ...                        ...   \n",
       "254                   NaN                    NaN                        NaN   \n",
       "255                  62.0                1165828               1.643306e+07   \n",
       "256                  88.0                 101444               1.343854e+07   \n",
       "257                  92.0                 264150               1.409210e+07   \n",
       "258                   NaN              210621546               6.250008e+08   \n",
       "\n",
       "     median_age  gdp_purchasing_power_parity  gdp_global_rank  \\\n",
       "0          30.6                 1.278000e+14              NaN   \n",
       "1          19.0                 6.945000e+10            101.0   \n",
       "2           NaN                          NaN              NaN   \n",
       "3          33.4                 3.601000e+10            125.0   \n",
       "4          28.3                 6.300000e+11             36.0   \n",
       "..          ...                          ...              ...   \n",
       "254        21.5                 9.065000e+08            205.0   \n",
       "255        19.8                 7.363000e+10             97.0   \n",
       "256        16.8                 6.893000e+10            102.0   \n",
       "257        20.2                 3.427000e+10            127.0   \n",
       "258        43.2                 2.085000e+13              NaN   \n",
       "\n",
       "     education_expenditures  education_expeditures_global_rank            ISO3  \n",
       "0                       NaN                                NaN           World  \n",
       "1                       3.9                              111.0             AFG  \n",
       "2                       NaN                                NaN        Akrotiri  \n",
       "3                       4.0                              108.0             ALB  \n",
       "4                       NaN                                NaN             DZA  \n",
       "..                      ...                                ...             ...  \n",
       "254                     NaN                                NaN             ESH  \n",
       "255                     NaN                                NaN             YEM  \n",
       "256                     NaN                                NaN             ZMB  \n",
       "257                     7.5                               10.0             ZWE  \n",
       "258                     5.0                                NaN  European Union  \n",
       "\n",
       "[259 rows x 13 columns]"
      ]
     },
     "execution_count": 91,
     "metadata": {},
     "output_type": "execute_result"
    }
   ],
   "source": [
    "some_names = list(cia_df.country)\n",
    "standard_names = coco.convert(names=some_names, to='name_short', not_found=None)\n",
    "standard_names\n",
    "iso3_codes = coco.convert(names=standard_names, to='ISO3', not_found=None)\n",
    "\n",
    "\n",
    "cia_df['ISO3'] = iso3_codes\n",
    "cia_df"
   ]
  },
  {
   "cell_type": "code",
   "execution_count": 46,
   "metadata": {},
   "outputs": [],
   "source": [
    "#drop NaN values\n",
    "new_cia = cia_df.dropna(subset=['internet_users'])\n"
   ]
  },
  {
   "cell_type": "code",
   "execution_count": 47,
   "metadata": {},
   "outputs": [
    {
     "data": {
      "text/plain": [
       "64"
      ]
     },
     "execution_count": 47,
=======
       "                                           country\n",
       "0                                            World\n",
       "2                                         Akrotiri\n",
       "10                             Antigua And Barbuda\n",
       "11                                    Arctic Ocean\n",
       "15                     Ashmore And Cartier Islands\n",
       "16                                  Atlantic Ocean\n",
       "20                                    Bahamas, The\n",
       "30                                         Bolivia\n",
       "31                          Bosnia And Herzegovina\n",
       "36                          British Virgin Islands\n",
       "37                                          Brunei\n",
       "40                                           Burma\n",
       "52                               Clipperton Island\n",
       "56               Congo, Democratic Republic Of The\n",
       "57                          Congo, Republic Of The\n",
       "59                               Coral Sea Islands\n",
       "61                                   Cote D'Ivoire\n",
       "64                                         Curacao\n",
       "66                                         Czechia\n",
       "68                                        Dhekelia\n",
       "78                                        Eswatini\n",
       "80               Falkland Islands (Islas Malvinas)\n",
       "87                                     Gambia, The\n",
       "88                                      Gaza Strip\n",
       "103              Heard Island And Mcdonald Islands\n",
       "104                        Holy See (Vatican City)\n",
       "110                                   Indian Ocean\n",
       "112                                           Iran\n",
       "115                                    Isle Of Man\n",
       "119                                      Jan Mayen\n",
       "126                                   Korea, North\n",
       "127                                   Korea, South\n",
       "128                                         Kosovo\n",
       "131                                           Laos\n",
       "140                                          Macau\n",
       "151                Micronesia, Federated States Of\n",
       "152                                        Moldova\n",
       "161                                 Navassa Island\n",
       "171                                North Macedonia\n",
       "175                                  Pacific Ocean\n",
       "180                                Paracel Islands\n",
       "184                               Pitcairn Islands\n",
       "190                                         Russia\n",
       "192                               Saint Barthelemy\n",
       "193  Saint Helena, Ascension, And Tristan Da Cunha\n",
       "194                          Saint Kitts And Nevis\n",
       "196                                   Saint Martin\n",
       "197                      Saint Pierre And Miquelon\n",
       "198               Saint Vincent And The Grenadines\n",
       "201                          Sao Tome And Principe"
      ]
     },
     "execution_count": 43,
>>>>>>> c8a5636976b9905efad4cdfcdf7bce40990d4adf
     "metadata": {},
     "output_type": "execute_result"
    }
   ],
   "source": [
<<<<<<< HEAD
    "\n",
    "#check if country in rest_df is in cia_df\n",
    "\n",
    "in_cia = rest_df.assign(In_new_cia=rest_df.country.isin(new_cia.country).astype(int))\n",
    "\n",
    "list_cia = in_cia.loc[in_cia['In_new_cia'] == 0]\n"
=======
    "off_cia_data[['country']].head(50)"
>>>>>>> c8a5636976b9905efad4cdfcdf7bce40990d4adf
   ]
  },
  {
   "cell_type": "code",
<<<<<<< HEAD
   "execution_count": 49,
   "metadata": {},
   "outputs": [],
   "source": [
    "in_rest = new_cia.assign(In_rest_df=new_cia.country.isin(rest_df.country).astype(int))\n",
    "\n",
    "list_rest= in_rest.loc[in_rest['In_rest_df'] == 0]\n"
   ]
  },
  {
   "cell_type": "code",
   "execution_count": 50,
=======
   "execution_count": 56,
>>>>>>> c8a5636976b9905efad4cdfcdf7bce40990d4adf
   "metadata": {},
   "outputs": [
    {
     "data": {
      "text/plain": [
       "0                                world\n",
       "2                             akrotiri\n",
       "10                 antigua and barbuda\n",
       "11                        arctic ocean\n",
       "15         ashmore and cartier islands\n",
       "                      ...             \n",
       "251                        wake island\n",
       "252                  wallis and futuna\n",
       "253                          west bank\n",
       "258                     european union\n",
       "country                            NaN\n",
       "Name: country, Length: 69, dtype: object"
      ]
     },
     "execution_count": 56,
     "metadata": {},
     "output_type": "execute_result"
    }
   ],
   "source": [
    "off_cia_data['country'].str.lower()"
   ]
  },
  {
   "cell_type": "code",
<<<<<<< HEAD
   "execution_count": 51,
=======
   "execution_count": 5,
>>>>>>> c8a5636976b9905efad4cdfcdf7bce40990d4adf
   "metadata": {},
   "outputs": [],
   "source": [
    "merged_data.to_csv(\"merged_data.csv\")"
   ]
  },
  {
   "cell_type": "markdown",
   "metadata": {},
   "source": [
    "<h1> Josh's Workspace </h1>"
   ]
  },
  {
   "cell_type": "code",
<<<<<<< HEAD
   "execution_count": 52,
=======
   "execution_count": 6,
>>>>>>> c8a5636976b9905efad4cdfcdf7bce40990d4adf
   "metadata": {},
   "outputs": [],
   "source": [
    "pop_low = merged_data[\"population\"].quantile(0.1)\n",
    "pop_hi  = merged_data[\"population\"].quantile(0.90)\n",
    "edu_low = merged_data['education_expenditures'].quantile(0.01)\n",
    "edu_hi = merged_data['education_expenditures'].quantile(0.99)\n",
    "\n",
    "\n",
    "df_filtered = merged_data[(merged_data[\"population\"] < pop_hi) & (merged_data[\"population\"] > pop_low) & (merged_data['education_expenditures'] > edu_low) & (merged_data['education_expenditures'] < edu_hi)]"
   ]
  },
  {
   "cell_type": "code",
<<<<<<< HEAD
   "execution_count": 53,
=======
   "execution_count": 7,
>>>>>>> c8a5636976b9905efad4cdfcdf7bce40990d4adf
   "metadata": {},
   "outputs": [
    {
     "data": {
      "image/png": "iVBORw0KGgoAAAANSUhEUgAAAX4AAAEGCAYAAABiq/5QAAAABHNCSVQICAgIfAhkiAAAAAlwSFlzAAALEgAACxIB0t1+/AAAADh0RVh0U29mdHdhcmUAbWF0cGxvdGxpYiB2ZXJzaW9uMy4xLjIsIGh0dHA6Ly9tYXRwbG90bGliLm9yZy8li6FKAAAgAElEQVR4nO3deZwcZZ348c937syRMJOECIFcSACBEOIgKKII4qoLiBvXRRcFUVAWFcT9IazCouiuIqC+2FUWkUuQZSWsIC4qIocnMsSQhMNwhASGmGuGTOa+vr8/qjr0dPqo7q6qrur6vl+vfk1XdU/XU9U1z3zreb71PKKqGGOMSY6aShfAGGNMuKziN8aYhLGK3xhjEsYqfmOMSRir+I0xJmHqKl0AL2bNmqULFiyodDGMMSZWHn/88W2qOjtzfSwq/gULFtDV1VXpYhhjTKyIyIZs662pxxhjEsYqfmOMSRir+I0xJmECq/hF5AYR2SIia9PWdYjI/SLyrPuzPajtG2OMyS7IiP8m4N0Z6y4CHlDV/YEH3GVjjDEhCqziV9VHgJ6M1e8Dbnaf3wycEtT2jTHGZBd2OuccVd0EoKqbRGTPXG8UkbOBswHmzZsXUvGKt2pjLytWdvNSzyD7djSzfNlcls6zFixjTHRFtnNXVa9T1U5V7Zw9e7f7DyJh1cZerr5/HT0Do8yZ0UTPwChX37+OVRt7K100Y4zJKeyKf7OI7AXg/twS8vZ9tWJlN21N9UyfVk+NCNOn1dPWVM+Kld2VLpoxxuQUdsV/D3C6+/x04O6Qt++rl3oGaW2a2lrW2lTHSz2DFSqRMcYUFmQ65+3AH4ADRORlEfk48HXgBBF5FjjBXY6tfTua6R8en7Kuf3icfTuaK1QiY4wpLLDOXVX9UI6Xjg9qm2FbvmwuV9+/DnAi/f7hcXYOj3HWMQsrXDJjjMktsp27cbB0XjsXnLCYjpYGNu8YpqOlgQtOWGxZPcaYSIvF6JxRtnReu1X0IbC0WWP8YxG/iTxLmzXGX1bxm8iztFlj/GUVv4k8S5s1xl9W8ZvIs7RZY/xlFb+JvOXL5rJzeIy+oTEmVekbGmPn8BjLl82tdNGMiSWr+E3kWdqsMf6ydE4TC5Y2a4x/LOI3xpiEsYrfGGMSxip+Y4xJGKv4jTEmYaziN8aYhLGK3xhjEsYqfmOMSZi8efwisg9wKnAMsDcwBKwFfgbcp6qTgZfQGGOMr3JW/CJyIzAXuBf4Bs7E6E3AYuDdwBdF5CJVfSSMghpjjPFHvoj/KlVdm2X9WuAuEWkA5gVTLGOMMUHJ2cafrdIXkf1E5FD39VFVfS7IwhljjPGf57F6RORfgEOBSRGZVNWPBFcsY4wxQckZ8YvIZ0SkNm3VYar6IVX9R+Cw4ItmjDEmCPnSOXuBn4vISe7yL0XkYRH5DfCL4ItmjDEmCPna+G8FTgKWisjdQBfwHuBEVf1/IZXPGGOMzwrdwLUfcAfwSeDTwLeBaUEXyhhjTHDy5fHf5L4+DXheVc8SkcOB74vIn1T18pDKaIwxxkf5snoOV9XDAETkzwCq+mfgJBF5XxiFM8YY4798Ff99IvIw0AD8KP0FVb070FIZY4wJTM6KX1UvEpHpwKSq9odYJmOMMQHKewOXqvaFVRBjjDHhsGGZjTEmYaziN8aYhMk3ZMP+InK3iKwVkdtFZG6YBTPGGBOMfBH/DThj8S8HVgLXhFIiY4wxgcrXudumqt93n39TRFaGUSBjjDHBylfxN7l36oq7PC19WVXtH4ExxsRQvop/E3B12vJf05YVOC6oQhljjAlOvhu43hFmQYwxxoQj7w1cIjIT+DBwoLvqaeBHqtpTzkZF5HPAJ3CuHNYAH1PV4XI+0xhjjDf50jkPwplY/Y3AOuBZ4AhgrYgcmOv3CnHTQj8LdKrqIUAtcGqpn2eMMaY4+SL+y4HzVPV/0leKyHLgazhpnuVsd5qIjAHNwCtlfJYxxpgi5MvjPzSz0gdQ1RXAIaVuUFW7gSuBjTgdyDtU9ZeZ7xORs0WkS0S6tm7dWurmjDHGZMhX8Q+U+FpeItIOvA9YCOwNtIjIaZnvU9XrVLVTVTtnz55d6uaMMcZkyNfUs6eIXJBlvQDl1MTvBNar6lYAEbkLeAtwaxmfaYwxxqN8Ff/3gbYcr11fxjY3AkeJSDMwBByPM5G7McaYEOTL4/9yEBtU1UdF5E6c8X/GgT8D1wWxLWOMiZNVG3tZsbKbl3oG2bejmeXL5rJ0Xrvv28mXznmwiJyctvwtEbnBfSwrZ6Oq+q+qeqCqHqKqH1HVkXI+zxhj4m7Vxl6uvn8dPQOjzJnRRM/AKFffv45VG3t931a+zt2vA9vSlv8G+BnwIHCp7yUxxpgEW7Gym7ameqZPq6dGhOnT6mlrqmfFym7ft5WvjX8vVf192nKfm8qJiHzS95IYY0xM+NUks2pjL9c+/DyrX97B9oFRZrc2ctBebcxqawKgtamOl3oG/S5+3oh/Sseuqh6Vtrin7yUxxpgY8KtJZtXGXi6750m6NvRSUyPU1Qhbdg6zcuOrbNvpjGDTPzzOvh3Nvu9Dvoj/FRE5UlUfTV8pIkdhd9pGXlidRMYkTXqTDLDr54qV3UX9ja1Y2U3v4BjT6utoqKthj+Z6tvePMjQ6wQvbBmioq2Xn8BhnHbPQ933IV/F/AbhDRG7CycABZ9ye04F/8L0kxjepiKStqX5KRHLBCYut8jemTC/1DDJnRtOUdaU0ybzUM8jI+CTNDbUANNXXMbMVegZG6R0YpaOlgbOOWRjI32y+dM4/iciRwKeBM9zVTwJHqepm30tifONXRGKql10Rlm7fjmZ6BkZ3/V1BaU0y+3Y0s37bAGMTSkOdM99VbU0Ne7Y18bbFs7n8lJJHxikoXxs/qrpFVS9V1eXu41Kr9KPvpZ5BWpum/k8PqpPIxE+YaYPVaPmyuewcHqNvaIxJVfqGxtg5PMbyZXOL/pz25nqGxsYZGZ9gdHyCwZFx2lvqi/6sYuXL4/+piJwkIvVZXlskIl8RkTMDLZ0pyb4dzfQPj09ZF1QnkYmfMNMGq9HSee1ccMJiOloa2LxjmI6WhpKaUZfOa+eykw+mc347k5PKxKTSuaCdy046OPCrr3xt/GcBFwDfFpEeYCvQBCwAngf+Q1XvDrR0piTLl83l6vvXAU6k3z88HlgnkYkfv9qok2zpvHZfKuel89q59iOdPpSoOPna+P8KXAhcKCILgL1wxtZZp6p2hkRYKiJJb8MNqpPIxI9fbdQmvvJOvZiiqi8CLwZaEuMrvyISv1hnYnTYFaHJ27lrjB+sMzFa/GqjNvHlKeI3phxBp5d6uZqwK46ponZFWGlJOz+KivhFpF1ElgRVGFOdgkwv9XI1YVccJp8knh8FK34ReUhEpotIB/AEcKOIXB180Uy1CDK91EtqoqUvmnySeH54ifhnqGof8HfAjar6RpzpE43xxK8bXrLxcjVhN7SZfJJ4fnip+OtEZC/gg8C9AZfHVKEgOxO9XE3YDW0mnySeH146d78C/AL4nao+JiKLgGeDLZapNkF1JnpJTbT0RZNPEs8PUdVKl6Ggzs5O7eqy+dhNdpbVY8pVreeHiDyuqrvdGlyw4heRxcD3gDmqeoib1XOyqn41mKLuzip+Y4wpXq6K30sb//eBi4ExAFVdDZzqb/GMMcaExUvF36yqf8pYN571ncYYYyLPS+fuNhHZD1AAEfkAsCnQUhljIqVa28CTykvEfy7wX8CBItINnA98KtBSGWMiI4l3tla7vBG/iNQAnar6ThFpAWpUdWc4RTMmupIUAVfrVJ5J+g4zFZp6cRJnzl1UdcAqfWOSFwFX452tSfsOM3lp479fRP4ZuAMYSK1U1Z7ASpVgSY5C4qJaI+BcqnHilqR9h5m8tPGfidPO/wjwuPuwpPoAJD0KiYtqjIDzCXKspUpJ2neYqWDFr6oLszwWhVG4pEniKIFxlLSxXapx4pakfYeZCjb1iMhHs61X1Vv8L06yRWES7CQ2NRW7z0kc28XPsZaicI4l8TtM56Wp54i0xzHAZcDJAZYpsSodhSSxqamUfa7GCDgsUTnHkv4dFoz4VfUz6csiMgP4YWAlSrBKRyFhdnhFIeqD0vfZpi4sTZQ6VXN9h1E5N4NUymTrg8D+fhfEVD4KCavDKypRH1gnX9iifryjdG4GyUsb/09xh2vA+UfxBuDHQRYqycKKJLNFNWGl7UUp6qvGVMUoi/rxjtK5GSQvEf+VwFXu49+Bt6nqFwItlQlUrqjm0LnTQ0nbi1LUV42pilEW9eMdpXMzSF4q/veq6sPu43eq+rKIfCPwkpnA5EobXdPdF0pTU6U7sdNVunktaaJ+vKN0bgbJy527JwCZEf57sqwzMZEvbTSMpqZKd2Jnso7acJV6vMPodPXj3IxD53DOiF9EzhGRNcABIrI67bEeWB1eEY3fKh3VRD3qM9ETVqdruedmXDqH80X8PwLuw2nXvyht/c5yx+kRkT2A64FDcDqOz1TVP5Tzmca7cqIav6IZi7JNMcLsdC3n3IxL53C+Nn5V1RdxxunZmfZARDrK3O53gJ+r6oHAYcDTZX6eKUKpUU1cohlTfeLS6RqXchaK+E/EGZRNAUl7TYGSxusRkenA24AzAFR1FBgt5bNM6UqJauISzZjqsmpjL6/sGOLJV3awR3MDC2e1MLO1MZKdrlFPV03JGfGr6onuz4WqusjHQdoWAVuBG0XkzyJyvTvJyxQicraIdIlI19atW8vYnPFLXKIZUz1SV5mzWhqpqRH6R8Z54qVX2bh9IFJpoClRT1dNyde5uyzfo4xt1gHLgO+p6uE4Y/xflPkmVb1OVTtVtXP27NllbM74pdKdwiZ5UleZ82e1sGTuDFoa65hUZWv/SCQTAuKSuJCvqecq92cT0Ak8gdPcswR4FHhridt8GXhZVR91l+8kS8VvoidqaZim+qWnHs9qa2JWWxOTqmzeMRy5yjQlDokL+Zp63qGq7wA2AMvc6PuNwOHAc6VuUFX/CrwkIge4q44Hnir180x44hLNmOphV5nB8HID14Gquia1oKprRWRpmdv9DHCbiDQALwAfK/PzTEjiEM1UShxu3Ikbu8oMhqhq/jeI3I7TDn8rTjbPaUCrqn4o+OI5Ojs7tavLZns00ZXqhGxrqp9SQdkVUfnsH2rpRORxVe3MXO8l4v8YcA5wnrv8CPA9H8tmTOwlIdW1UhWwXWX6z8ucu8Oq+i1Vfb/7+JaqDodROGPiotpTXe3mvepSsOIXkaNF5H4RWSciL6QeYRTOmLio9k7IXCO6rljZXemimRJ4aer5AfA5nDt4J4ItjjHxVO2dkPlGdI0y6x/Izst4/DtU9T5V3aKq21OPwEtmTIxUe6prHK9orHkqNy8R/4Mi8k3gLmAktVJVVwZWKmNiKE6dkMVGwnG8ovG7w72arh68RPxH4ty5+2+8NgXjlUEWyhgTnFIi4The0fjZ4V5tVw8FI3737l1jYi8uEVvQ5Sw1Eg7yiqbQPpdyTEoZKTPbdgAuXLGa3oHRKaODQnzTdb1k9cwRkR+IyH3u8htE5OPBF80Y/8QlYgujnFFLPS20z6Uek2JHysy2ncvueZLLfvokvQOjtDbVMTI+yeqXd7C9fyQWndu5eGnquQn4BbC3u7wOOD+oAhkThLikI4ZRzqh11Bba51KPSbHNU9m20zs4Ru/AGDOaGxifgPraGhrqali/bSDyndv5eOncnaWq/yMiFwOo6riIWFpnhfnRHBCXpg8/FJOOWMnjEkbaZNQ6agvtcznHxEvzVOr7/tnqV2hvaWDRrBZmtTnbGxmfBJTFc1pZ090HQF0tvDo4GvnO7Xy8RPwDIjITZ5weROQoYEegpTJ5+dEcEJemD794jXIrfVzCiMaj1lFbaJ+DPCbp33dHSwODoxOs6e5j205ncILGuhoa62qZ1dbEoXOn01hfQ//wOO0x6NzOx0vEfwFwD7CfiPwOmA18INBSxUxYEWJqOw88vZn62hoOeF3brktSKK6jKQljy6TzGuVW+riEFY1HKfW00D4HeUzSv+9Fs1tZ/fIOROCFbQM01NXSUCv0DI7xq6f+yvRp9cxpa2LvGU2xrvTB21g9K4G3A28BPgkcrKqrgy5YXIQVIaZvZ1JhUnVXJxMU3xwQtQ6+oHmNcit9XKIWjYeh0D4HeUzSv++ZrY0s2WcGLQ219A6MMjE5SUtTHQe+ro0Z0+rpGxpj/fYBTlyylz/fR18fXHQRiEx9fOlL5X92AQUjfhFpAv4JZ8YtBX4jItfaQG2OsCLE9O20NtUxMjZJQ52wfttASRNPx2VSaD95iXLLOS6pK7InX9lB/8g4LQ21zJnutBUPj016vhqMUjQelkL7HNQxyfy+Z7Y2Ul9bQ0dLAwC1NTVMn1bPvJnOtOB9Q2Os6e7jg0dk+bDbb4cPf7j8Qn3ta/DVr5b/OXl4aeq5BdgJXOMufwj4IfD3QRUqTsIawyR9OwtnNrOmu4+6WtmVrlbspW/UOviiotTjkroim5hUunuHqKkRtveP8MKWfurra1m67x67rgarPYKPk1zf96fe0MahyxaHX6ALLgi80gdvFf8BqnpY2vKDIvJEUAWKm7Ai5/TtOB1NsG5zP5MidLQ0cNYxC4uqTFKXz+l9E8V+RjUq9bikrsjWbd5JY30t9bU19A2NISJMr6/jxe2DHLGgY9d7k36cQ/elLzmRdIalOJFtYM44A666Cjo6gtxK0bxU/H8WkaNU9Y8AInIk8LtgixUfYUXOmdtpqKtl/szmsqLHJDYpeFHKcUldkfWPjDOtoRZw+mFQpb5WGBhxslLi3o9SbiKDL4kQ27fDrFlFltwfv37bKXT88IbY/914Havn9yLyooi8CPwBeLuIrBGRxHfyhtUZl8ROvzhJpRy2NtYxPuFMZ1ojQm1NDWMTSkujE2PFuR+l3ESGXL+/9WOf3L2DM9/Dz0r/scfA/Qed7bFqQw+X/O8azvjBo1zyv2uqotIHb3Puzs/3uqpu8LVEWdicuybq0tv4n9vST02NMDo+wfj45K42/sa62ljPw3vJT9buam7c3j/C+m0DvDo4SntLA1csX+Ls08AAtLZWpoCLFsFzzzn/HAxQ3py7+6vqrzI+7HRVvdm30hkTc+l9A0NjE25WT+OUrJ69ZhTfF1Nx11wDn/0sAJfne98FAWz75pvhox8N4IONl4r/UhFZDvwz0ApcjzMuv1X8xqSJfJ/J2Bg0NFRs85feuYrtwxNTEiH6hsboaGng8lMOqVi5kshLxf924PPAKnf5UlW9PbgiGb8laUyeRLn2WjjnnIps+sYTTueG409nbGKSQ+dOp6O1kc07nFt75sxooiatuWVSlc07hjn/iHmeEyGy3RNxyNw97Nz1iZeKvx2ng/d5YB9gvoiIFuocMJGQantua6qf0qEW13bmqqUKNV5yLQIyMADN3m5SS41NP6O+hgNf18qstib6hsZ2dVrnSm/2miqb7Z6IHUNjTKvvt3PXJ14q/j8CX1fVG0RkGvANnHTOtwRaspiJalRd6bFnEuuWW+D00yuz7fe/H+66K5CPXjqvnSuWL9kVTLQ21e26gfDti2fx62e28Oj6HqY31bN4TisNbod2Kqr30hyWfk8EwMDIOKMTk6zdtIP57c1cuGI1e8+YFqm/s7jxEmK8U1VvAFDVIVX9LHBRsMWKl0qP6JhPpceeqRrFpBuK+Fvpb9uWN+Vwt0dAlX5KttTiE5fsxb2rN1FbU8Mb5zsVcdeGXiYmJ4uO0FPnbM/AKH3DY0xMQl2NMDQyzl8272RL30jk/s7iJmfELyKnqeqtqrpRRI5W1fSbtpYAjwRfvHjIFVVf+/DzzG5rquhVQJTG5InMVdH998O73hX+dgFe/3p49tnKbNtHmZH7JT9Zm/Y3UM9st/mno6Wh6O84dc6OT04iItTWwMQkIEJNjaBoyaPSGke+iD89QeuajNfODKAssZUtqh4dn+DR9T0Vvwoodvq5oAR6VTRzZnHRuI+V/le+cSdfuPMJzr31cT56/R9ZtaEnfzReBZV+Nn5eWabOWRFhcnKS8QllUhUB907o16otu3otTb6KX3I8z7acaNkmili3uZ/pEZjqLyp3/HqePu+pp4pvVunp8a+gHptTLvnfNZx76+MMvX5xpKdyDIufk6Wkztk92xppqq+jvk5obqhlWkMtLY11tDe/lpIa5zuhKylf567meJ5tOdGyjdfTNzy2q60zpVLRSUXzyw89FNauzX/zT1AefBCOPTaQj/ZrVNZszV9AqBP7+LEdv8esytaJ/NL2QZ7+ax97tjUyqWojypYh55ANIjIIPIcT3e/nPsddXqSqLaGUkHgM2ZD5R7R15/CusbxTYn+zSnc37LNP5bYfoQzi9OELUor9ftNTbVOVZferg6Awt715SgXq91Vatm2Xu50g+nAyP/PQudNZ091X+X6imChlyIaDAixPxRU6SYs9iTOj6tQfFkRnvPvMfbrwqk/T9tuHK1KW6z/zdR457NjY5mT7EeFmSwpY2z0GwEF7O+tGxyfYsH2Qf7ptJccfNMe3ii6INN8griyzfWbWSVBMUXJW/GEMvlYphW5q8uOmp9DHu+/vh7a2/GVyH4HwEI1n/uO5IMbRmh/fb7bmopHxCVJdaNt2Du+acGdS1deb78KaQMhEk5cbuKpOoWjHr2goFa2kKrxv/+pZ75enV1wBX/hCCXvng+uvh49/3PePjfxYNkUqd3+ypdo21tXuer5++yD1tTWIMOV89CN9Maw038ik8JopElnxF4p2/IyGVm3s5ds/f4pvXbyc9p7NpRe6HOPjnHHz4znHULnpzDdVplwJl625qL2lHtTpL+gfHqe+VhgdVw58Xduu9/kRlYcxgZANFxJdFRwcpHIKpZ4VTE1Ljfnt4bF0fgc3ffKt/lX63/1ucXdxqkJtra/pdsYf2VJtLzvpYC47+WA6WhqoEWcylyX7zGBmayPg33cWRpqv5xReE7qCEb+IHA1cBsx33y+AquqiYIsWnCnRTmMts9f+mVN+ditHdj0AFBh33G/Dw9DY6NvH5bq0LjfCs0v2YORqLkr/zupra9i2c5h1m/vpGx7jyIUdrNrYW/bxD7rpzfoRosvLDFzPAJ8DHgcmUutVdXuwRXuNb+mcXV1wREApAXPnwh13wNFHT1ntR9qfV4VS9EqtvINI/TPerNrYy7UPP79r4LP957TGZiavMM99k105M3DtUNX7AihQLdAFdKvqiX5/flZ9fd7f+8UvwiWXTInGPaWA/mTtlNfDmowdCndalxrh2QiflbN0Xjuz25p4y36zplSgUP7xD/oqLsxz3xTHSxv/gyLyTRF5s4gsSz182PZ5wNM+fI53xx3nvV38q1/drdLPN9ZMrteB0IZMCGokThvhs7KCOP5hjCgbleFCzO68RPxHuj/TLxcUOK7UjYrIPsDfAl8jmNk6fZct6n11cHTX2OCv7Bhidmtj1qj48lMOCeVkDypFL0ojfPohPdJtqndin+Gxycj2XQRx/NPP5207h1m/fZAd7vm8a+J0H1RbCm8QKtF/VjDiV9V3ZHmUXOm7vg1cCEzmeoOInC0iXSLStXXr1jI3V77MqGt7/wjPbemn142YegdGeW5LP9v7R3a9J+yoOKiROKMywqcf0iPd+lqh68Veujb0UlcrkR3fPYjjnzqfUzeJjYxN0tpUR29Ej0G1qtRcHgUrfhGZISJXpyphEblKRGaUukERORHYoqqP53ufql6nqp2q2jl79uxSN+ebzHTI9dsGqKkRZjQ3UCPuzxph/baBXe8JOyoO6tK6mi7Z0yPdF7cP0txYx7T6Ol7cPhjZdMMgjn/qfE7dJNZQV8PEJOzR3BDJY1CtKpXy6qWp5wZgLfBBd/kjwI3A35W4zaOBk0XkvUATMF1EblXV00r8PF95TYd8dXCUmhph4UynYl84s5nV3Tt4dXC0oiMHBnFpXU2pnOkphv0j40xrqAV1pveD/FdplTwOfn+vqfN5x+AorU11jE1MMjo+yYGva4td/02cz89Kpbx66dzdT1X/VVVfcB9fBkrO4VfVi1V1H1VdAJwK/DpKlX6uy67MqKu9pYH9ZjkTTQPMamtiv1mttFdBVJwuytNKliL9yq21sY7xCWVsQmlpdGKgXFdp1XYcUudze0sD/cPjNNbV7LpRLE79N3H/Xip1Y6WXin9IRN6aWnBv6BoKrkiVU+iya+m8di4/5RBuOvNNXLF8CXW1MqXdta5WuGL5Em46802hdegGrdruvkxvL18ws5nBkXGGxsZZMLM5b9t5tR0HeG3M+4P2ms7iOW20tzTErv8m7t9LpfrPvFT85wD/KSIvisgG4D+AT/mxcVV9KLQcfg+KSZurpnbvfKotlTP9exubUDoXtNM5v53xCc37HVbbcUiJ+3kc9++lUse/YBu/qq4CDhOR6e5yEXdBxUuxaXNJSFWrtlROKO17i/pxKKedO87ncdS/Fy8qcfxzRvwicpr78wIRuQD4BPCJtOWqU01pi36xY+KI8nGIezt3OaL8vURZvqae1NSKbVkerQGXqyLiftkbBDsmjigfh7i3c5cjyt9LlOWbgeu/3Ke/UtXfpb/mdvDGjpfLYb8uu+KcYpYpzk0BforqcUj6KJhR/V6izEvn7jUe10VamJfDSb70NuGzuRZMsXJG/CLyZuAtwOyMNv3pQG3234quMEeYtNEsTZhsrgVTrHwRfwNOW34dU9v3+4APBF80f4WZ9hX3FDMTL+W0c9vVaTLla+N/GHhYRG5S1Q0hlikQYaZ9VUOKmYkXm2shP7uqmcpLG/+gOx7//4nIr1OPwEvmszDTvizFzMRFEq5O7apmd14q/tuAZ4CFwJeBF4HHAixTIMJM+7IUMxMXSegYTnK6ay5eRuecqao/EJHz0pp/Hg66YEEIM+2rGlPM7HK5eFE/ZkmYHjEu6a5hniteIv4x9+cmEflbETkc2CeQ0pjIssvl4sXhmCXh6jQOVzVhnyteIv6vuhOvfB4nf3868LlAShNDUY/oMpVa3kJTT8Zh38PmV8dp0OdYNV6dpovDVU3Ynexepl68V1V3qMoF1DkAAA7ESURBVOpad9rFN6rqPb6XJIbiENGlK6e8haaejPq+V4IfHadxO8eiKA5XNWF3sheM+EXkZuA8VX3VXW4HrlLVMwMpUYwE+V86iCivnPJmpqimpp5sa3ytw8zrZyWFH2m9SUm3DFrUr2rCTgH30sa/JFXpA6hqL3B4IKWJmaD+SwcV5ZVT3swU1dQUk6mpJ4v5rKTwI603CemWJvwUcC8Vf40b5QMgIh146xuoekF1GgWVflZOeQtNPVnMZyWFH00MceiYNOULuznKSwV+FfB7EbnTXf574GuBlCYkfjWjBNVpFFT6WbnlTb9cTl2V9A2NRbbDLArKbWKIQ8dkOTL/Fg+dO5013X15/zbjklBRbDnDbI7y0rl7C7Ac2AxsAf5OVX8YdMGC4mczSlD/pYOK8vwsbxw6zKpBNR/nzL/FF7b28+/3PcPzW/pz/m3GpbM76uX00rk7D+gH7klfp6obgyxYUK59+Hk2bB9kdGKSlsY6Fs5s3tWMUmoF6PcfYZBRnp/lzfysVRt7ueQna7NGOHGJ0qKo0HcW12Ob2XG9ZecITfW1bOkfYf6slqwd2XHp7I56Ob208f8MuNd9PAC8ANwXZKGCsmpjL4+u72FClWn1tYyMTbKmu4+R8YlIdZbFMcrLF+FEPfqJszgf28yO6/6RcZrqaxgYee1qN7OJMy6d3VEvp5fJ1g9NXxaRZcAnAytRgFas7GZ6Uz0KiAgNdQLAs5v7edvi2ZUtXIYg2/vCThUFIh39ZIpTBB31yDKfzBTG1sY6+kfGaWlM+2eQ0cQZl5Fvo15OLxH/FKq6EjgigLIE7qWeQRbPaWV0fJKxiUkUBZS+BI2cWYlU0ahHP+niFkHH6dhmykxh3LOtkeGxCfZsbcyZ0hiXkW+jXs6CFb+IXJD2+GcR+RGwNYSy+W7fjmYa6mpZss8MGutqGBqdoEaEIxd2RD468kslUkXjlJIYt5Ec43RsM2U2aS6a3crF7zmQ/fZszdnEGZdm0KiX00s6Z1va83GcNv8VwRQnWKlO07amepbNb9/Vafqpt+9X6aLtJqjmhkqlikYtJTHX8Y3LSI4pcU/3zNak+cEC7QlRvws3Jcrl9JLO+eW0x9dU9TZVHQ6jcH6L+n/hlCCbGyqRKhq1457v+MYtgo7asTXxIKqa/QWRnwLZXwRU9eSgCpWps7NTu7q6wtpcxV3yk7W7dQz1DY3R0dLA5accUtZnpyq9tqb6KRFikiqLfMc3/aowqccnDHHqQI8zEXlcVTsz1+eL+K/EuWt3PTAEfN999ANrgyikcQTZYWcRYv7ja8cneHHrQK9GhSZbR0QuV9W3pb30UxF5JPCSxZQfkUzQqWBRbnsMQ6Hjm/TjE7Q4p6BWCy/pnLNFZFFqQUQWAtFKeo8IvyKZqKeCxZ0d38qKcwpqtfBS8X8OeEhEHhKRh4AHgfMDLVVM+ZUKaM0NwbLjW1lx60CvRl7u3P25iOwPHOiuekZVR4ItVjz5mQpozQ3BsuNbOXFPQQ1KJCZbF5EL0xZPVtUn3MeIiPxbIKWJOYtkjCnMrrh2F6XJ1k8FrnCfXwz8OO21dwP/EkiJIi7ff+VqimQs3c4Eya64porSZOuS43m25UQo9F+5WiIZS7czJlxRmmxdczzPthxpfkWvXv4rV0MkY+l2xoQrSpOtHyYifSKyE1jiPk8tH5rn9yLFz+g1KWloSdlPY6IiMpOtq2qtqk5X1TZVrXOfp5brc/1e1Pg52mJSOm+Tsp/GREUUJ1v3lYjsC9wCvA6YBK5T1e8EtT0/UyyrqfM2n6TspzFREqnJ1gMwDnxeVQ8CjgLOFZE3BLUxP6PXaum8LSQp+2lMUoUe8avqJmCT+3yniDwNzAWeCmJ7fkev1dB5C4U7vKtlP40xu6tExL+LiCwADgcezfLa2SLSJSJdW7eWPuGXRa+7s3RNY5It9Ig/RURacWbyOl9V+zJfV9XrgOvAGY+/nG1Z9DqVpWsak2wVifhFpB6n0r9NVe+qRBmSzNI1jUm20Ct+ERHgB8DTqnp12Ns3lq5pTNJVIuI/GvgIcJyIrHIf761AORLLxqM3JtkqkdXzWxI61k9UpDq807N6zjpmobXvG5MQFevcNZVlHd7GJFdF0zmNMcaEzyp+Y4xJGGvqMcaYCIjE1IvGGGPCEfbd9FbxG2NMhfk5fLwXVvEbY0yFhX03vVX8xhhTYWHfTW8VvzHGVFhkpl40xhgTjqqfetEYY8zuqn3qRWOMMRVkFb8xxiSMVfzGGJMwVvEbY0zCWMVvjDEJI6plzWMeChHZCmzI8tIsYFvIxYmKJO87JHv/bd+TqZR9n6+qszNXxqLiz0VEulS1s9LlqIQk7zske/9t323fy2VNPcYYkzBW8RtjTMLEveK/rtIFqKAk7zske/9t35PJt32PdRu/McaY4sU94jfGGFMkq/iNMSZhYlvxi8i7ReQvIvKciFxU6fIESUT2FZEHReRpEXlSRM5z13eIyP0i8qz7M5yh/SpARGpF5M8icq+7nIh9F5E9ROROEXnG/f7fnKB9/5x7vq8VkdtFpKma911EbhCRLSKyNm1dzv0VkYvd+u8vIvI3xWwrlhW/iNQC/wm8B3gD8CEReUNlSxWoceDzqnoQcBRwrru/FwEPqOr+wAPucrU6D3g6bTkp+/4d4OeqeiBwGM4xqPp9F5G5wGeBTlU9BKgFTqW69/0m4N0Z67Lur/v3fypwsPs733XrRU9iWfEDbwKeU9UXVHUU+G/gfRUuU2BUdZOqrnSf78T545+Ls883u2+7GTilMiUMlojsA/wtcH3a6qrfdxGZDrwN+AGAqo6q6qskYN9ddcA0EakDmoFXqOJ9V9VHgJ6M1bn2933Af6vqiKquB57DqRc9iWvFPxd4KW35ZXdd1RORBcDhwKPAHFXdBM4/B2DPypUsUN8GLgQm09YlYd8XAVuBG91mrutFpIUE7LuqdgNXAhuBTcAOVf0lCdj3DLn2t6w6MK4Vv2RZV/V5qSLSCqwAzlfVvkqXJwwiciKwRVUfr3RZKqAOWAZ8T1UPBwaorqaNnNy27PcBC4G9gRYROa2ypYqUsurAuFb8LwP7pi3vg3MZWLVEpB6n0r9NVe9yV28Wkb3c1/cCtlSqfAE6GjhZRF7EadI7TkRuJRn7/jLwsqo+6i7fifOPIAn7/k5gvapuVdUx4C7gLSRj39Pl2t+y6sC4VvyPAfuLyEIRacDp5LinwmUKjIgITjvv06p6ddpL9wCnu89PB+4Ou2xBU9WLVXUfVV2A8z3/WlVPIxn7/lfgJRE5wF11PPAUCdh3nCaeo0Sk2T3/j8fp20rCvqfLtb/3AKeKSKOILAT2B/7k+VNVNZYP4L3AOuB54IuVLk/A+/pWnMu41cAq9/FeYCZOT/+z7s+OSpc14ONwLHCv+zwR+w4sBbrc7/4nQHuC9v3LwDPAWuCHQGM17ztwO05/xhhORP/xfPsLfNGt//4CvKeYbdmQDcYYkzBxbeoxxhhTIqv4jTEmYaziN8aYhLGK3xhjEsYqfmOMSRir+E3ZRGRCRFa5oyj+WESaK1SO84vdtogc444AuUpEpmW81h/ENkshIgtE5MM5Xjs2NWpp2rqbROQDQZfLxJNV/MYPQ6q6VJ1RFEeBT3n9xWJGFPTgfJzBvIrxj8CVbvmHwthmifu8AMha8RtTLKv4jd9+A7weQEROE5E/udH0f6UqPBHpF5GviMijwJtF5AgR+b2IPOG+v80df/+bIvKYiKwWkU+6v3usiDyUNkb9beL4LM6YLg+KyIOZhRKR492Bzta44543isgngA8Cl4rIbbl2qJhtisi7ROQPIrLSvfppdde/KCKXishvgb93P+8b7v6uE5Fj3Pdl3W/g68Ax7rH8XDFfiIh8XUSecj/vSnfdSSLyqHtMfiUic9z1s8UZ932l+51tEJFZ+b5PE0OVvlvNHvF/AP3uzzqcW8rPAQ4CfgrUu699F/io+1yBD7rPG4AXgCPc5enu55wNfMld14hz9+pCnLt3d+CMTVID/AF4q/u+F4FZWcrXhDOS4WJ3+Racge7AGQP9AwX2y9M2gVnAI0CLu/wF4NK0912Y9tkPAVe5z98L/Mp9nm+/781Rzt1eS+0X0IFzZ2fqZs093J/taes+kVaW/wAudp+/2/2uZuX7Pu0Rv0cdxpRvmoiscp//BmdcobOBNwKPOUOtMI3XBpiawBlwDuAAYJOqPgag7qijIvIuYElaO/UMnPFIRoE/qerL7vtW4TSD/DZP+Q7AGfBrnbt8M3AuznDPXnnZ5lE4EwP9zt3nBpx/Eil3ZLw/Ndje4+7nAeTb71xy3X6vQB8wDFwvIj8DUn0B+wB3iDPwVwOw3l3/VuD9AKr6cxHpddcfT+7v08SMVfzGD0OqujR9hTuw1s2qenGW9w+r6kTqrWSvuAT4jKr+IuNzjwVG0lZNUPg8zjaEbbG8bFOA+1X1Qzk+YyDHZ6Z/Xr79zmU7TgSfrgPYpqrjIvImnIr7VODTwHHANcDVqnqP+9mXpW0/m3zfp4kZa+M3QXkA+ICI7Am75g6dn+V9zwB7i8gR7vvaxJlx6RfAOeIMR42ILBZnEpJ8dgJtObaxQERe7y5/BHi46D0qvM0/AkentiPOyJKLi/y8XPuda9/AGcBrbxE5yP2d+TjTNK5y+xhmqOr/4XREp/5BzwC63eenp33Wb3H6PVJXXal/KF6/TxMDFvGbQKjqUyLyJeCXIlKDM+LgucCGjPeNisg/ANeIk045hDMW+/U4zR8r3auHrRSeZu864D4R2aSq70jbxrCIfAz4sftP5THgWj/2M3ObInIGcLuINLqvfwlnFFmvcu33amBcRJ4AblLVb6V+QVVHxJmk5EYRacI51p9Q1R1uU87d7noBUh3Dl+Ecj26cf1gL3fVfdsv/Dzj/HDcBO1V1m5fv08SDjc5pjNnF/Yc14TYRvRln9q+lhX7PxItF/MaYdPOA/3Gj+lHgrAqXxwTAIn5jjEkY69w1xpiEsYrfGGMSxip+Y4xJGKv4jTEmYaziN8aYhPn/bX0FXVtgWgEAAAAASUVORK5CYII=\n",
      "text/plain": [
       "<Figure size 432x288 with 1 Axes>"
      ]
     },
     "metadata": {
      "needs_background": "light"
     },
     "output_type": "display_data"
    }
   ],
   "source": [
    "z = np.polyfit(df_filtered['internet_%_of_population'], df_filtered['education_expenditures'], 1)\n",
    "p = np.poly1d(z)\n",
    "\n",
    "plt.plot(df_filtered['internet_%_of_population'],p(df_filtered['internet_%_of_population']),\"r--\")\n",
    "plt.scatter(df_filtered['internet_%_of_population'], df_filtered['education_expenditures'], alpha = .6)\n",
    "plt.xlabel('Percent of Internet Usage')\n",
    "plt.ylabel('Education Expenditures (GDP %)')\n",
    "\n",
    "plt.show()"
   ]
  },
  {
   "cell_type": "code",
<<<<<<< HEAD
   "execution_count": 54,
=======
   "execution_count": 8,
>>>>>>> c8a5636976b9905efad4cdfcdf7bce40990d4adf
   "metadata": {},
   "outputs": [],
   "source": [
    "sub_df = df_filtered[['sub-region', 'internet_%_of_population', 'median_age', 'education_expenditures']]"
   ]
  },
  {
   "cell_type": "code",
<<<<<<< HEAD
   "execution_count": 55,
=======
   "execution_count": 9,
>>>>>>> c8a5636976b9905efad4cdfcdf7bce40990d4adf
   "metadata": {},
   "outputs": [],
   "source": [
    "sub_df = sub_df.groupby('sub-region').mean()"
   ]
  },
  {
   "cell_type": "code",
<<<<<<< HEAD
   "execution_count": 56,
=======
   "execution_count": 10,
>>>>>>> c8a5636976b9905efad4cdfcdf7bce40990d4adf
   "metadata": {},
   "outputs": [
    {
     "data": {
      "text/html": [
       "<div>\n",
       "<style scoped>\n",
       "    .dataframe tbody tr th:only-of-type {\n",
       "        vertical-align: middle;\n",
       "    }\n",
       "\n",
       "    .dataframe tbody tr th {\n",
       "        vertical-align: top;\n",
       "    }\n",
       "\n",
       "    .dataframe thead th {\n",
       "        text-align: right;\n",
       "    }\n",
       "</style>\n",
       "<table border=\"1\" class=\"dataframe\">\n",
       "  <thead>\n",
       "    <tr style=\"text-align: right;\">\n",
       "      <th></th>\n",
       "      <th>internet_%_of_population</th>\n",
       "      <th>median_age</th>\n",
       "      <th>education_expenditures</th>\n",
       "    </tr>\n",
       "    <tr>\n",
       "      <th>sub-region</th>\n",
       "      <th></th>\n",
       "      <th></th>\n",
       "      <th></th>\n",
       "    </tr>\n",
       "  </thead>\n",
       "  <tbody>\n",
       "    <tr>\n",
       "      <th>Australia and New Zealand</th>\n",
       "      <td>88.350000</td>\n",
       "      <td>38.450000</td>\n",
       "      <td>5.800000</td>\n",
       "    </tr>\n",
       "    <tr>\n",
       "      <th>Caribbean</th>\n",
       "      <td>61.414286</td>\n",
       "      <td>34.571429</td>\n",
       "      <td>4.814286</td>\n",
       "    </tr>\n",
       "    <tr>\n",
       "      <th>Central America</th>\n",
       "      <td>40.385714</td>\n",
       "      <td>26.357143</td>\n",
       "      <td>4.942857</td>\n",
       "    </tr>\n",
       "    <tr>\n",
       "      <th>Central Asia</th>\n",
       "      <td>39.320000</td>\n",
       "      <td>27.980000</td>\n",
       "      <td>4.940000</td>\n",
       "    </tr>\n",
       "    <tr>\n",
       "      <th>Eastern Africa</th>\n",
       "      <td>24.375000</td>\n",
       "      <td>21.841667</td>\n",
       "      <td>4.525000</td>\n",
       "    </tr>\n",
       "  </tbody>\n",
       "</table>\n",
       "</div>"
      ],
      "text/plain": [
       "                           internet_%_of_population  median_age  \\\n",
       "sub-region                                                        \n",
       "Australia and New Zealand                 88.350000   38.450000   \n",
       "Caribbean                                 61.414286   34.571429   \n",
       "Central America                           40.385714   26.357143   \n",
       "Central Asia                              39.320000   27.980000   \n",
       "Eastern Africa                            24.375000   21.841667   \n",
       "\n",
       "                           education_expenditures  \n",
       "sub-region                                         \n",
       "Australia and New Zealand                5.800000  \n",
       "Caribbean                                4.814286  \n",
       "Central America                          4.942857  \n",
       "Central Asia                             4.940000  \n",
       "Eastern Africa                           4.525000  "
      ]
     },
<<<<<<< HEAD
     "execution_count": 56,
=======
     "execution_count": 10,
>>>>>>> c8a5636976b9905efad4cdfcdf7bce40990d4adf
     "metadata": {},
     "output_type": "execute_result"
    }
   ],
   "source": [
    "sub_df.head()"
   ]
  },
  {
   "cell_type": "code",
<<<<<<< HEAD
   "execution_count": 61,
=======
   "execution_count": 11,
>>>>>>> c8a5636976b9905efad4cdfcdf7bce40990d4adf
   "metadata": {},
   "outputs": [],
   "source": []
  },
  {
   "cell_type": "code",
<<<<<<< HEAD
   "execution_count": 62,
=======
   "execution_count": 12,
>>>>>>> c8a5636976b9905efad4cdfcdf7bce40990d4adf
   "metadata": {},
   "outputs": [
    {
     "data": {
      "application/vnd.jupyter.widget-view+json": {
       "model_id": "98825cd46d034bfa901fb5f7fece2539",
       "version_major": 2,
       "version_minor": 0
      },
      "text/plain": [
       "Figure(layout=FigureLayout(height='420px'))"
      ]
     },
     "metadata": {},
     "output_type": "display_data"
    }
   ],
   "source": []
  },
  {
   "cell_type": "code",
   "execution_count": 63,
   "metadata": {},
   "outputs": [],
   "source": []
  },
  {
   "cell_type": "code",
   "execution_count": 64,
   "metadata": {},
   "outputs": [],
   "source": []
  },
  {
   "cell_type": "code",
   "execution_count": null,
   "metadata": {},
   "outputs": [],
   "source": []
  },
  {
   "cell_type": "markdown",
   "metadata": {},
   "source": [
    "<h1>Daniela's Workspace</h1>"
   ]
  },
  {
   "cell_type": "code",
<<<<<<< HEAD
   "execution_count": 65,
   "metadata": {},
   "outputs": [
    {
     "data": {
      "text/html": [
       "<div>\n",
       "<style scoped>\n",
       "    .dataframe tbody tr th:only-of-type {\n",
       "        vertical-align: middle;\n",
       "    }\n",
       "\n",
       "    .dataframe tbody tr th {\n",
       "        vertical-align: top;\n",
       "    }\n",
       "\n",
       "    .dataframe thead th {\n",
       "        text-align: right;\n",
       "    }\n",
       "</style>\n",
       "<table border=\"1\" class=\"dataframe\">\n",
       "  <thead>\n",
       "    <tr style=\"text-align: right;\">\n",
       "      <th></th>\n",
       "      <th>country</th>\n",
       "      <th>population</th>\n",
       "      <th>internet_users</th>\n",
       "      <th>internet_%_of_population</th>\n",
       "      <th>internet_global_rank</th>\n",
       "      <th>telephones_fixed_lines</th>\n",
       "      <th>telephone_mobile_cellular</th>\n",
       "      <th>median_age</th>\n",
       "      <th>gdp_purchasing_power_parity</th>\n",
       "      <th>gdp_global_rank</th>\n",
       "      <th>education_expenditures</th>\n",
       "      <th>education_expeditures_global_rank</th>\n",
       "    </tr>\n",
       "  </thead>\n",
       "  <tbody>\n",
       "    <tr>\n",
       "      <th>0</th>\n",
       "      <td>World</td>\n",
       "      <td>7.503828e+09</td>\n",
       "      <td>3.174000e+09</td>\n",
       "      <td>43.0</td>\n",
       "      <td>NaN</td>\n",
       "      <td>984289950</td>\n",
       "      <td>7.806143e+09</td>\n",
       "      <td>30.6</td>\n",
       "      <td>1.278000e+14</td>\n",
       "      <td>NaN</td>\n",
       "      <td>NaN</td>\n",
       "      <td>NaN</td>\n",
       "    </tr>\n",
       "  </tbody>\n",
       "</table>\n",
       "</div>"
      ],
      "text/plain": [
       "  country    population  internet_users  internet_%_of_population  \\\n",
       "0   World  7.503828e+09    3.174000e+09                      43.0   \n",
       "\n",
       "   internet_global_rank telephones_fixed_lines  telephone_mobile_cellular  \\\n",
       "0                   NaN              984289950               7.806143e+09   \n",
       "\n",
       "   median_age  gdp_purchasing_power_parity  gdp_global_rank  \\\n",
       "0        30.6                 1.278000e+14              NaN   \n",
       "\n",
       "   education_expenditures  education_expeditures_global_rank  \n",
       "0                     NaN                                NaN  "
      ]
     },
     "execution_count": 65,
     "metadata": {},
     "output_type": "execute_result"
    }
   ],
=======
   "execution_count": null,
   "metadata": {},
   "outputs": [],
>>>>>>> c8a5636976b9905efad4cdfcdf7bce40990d4adf
   "source": [
    "world = cia_df.iloc[[0]]"
   ]
  },
  {
   "cell_type": "code",
<<<<<<< HEAD
   "execution_count": 66,
   "metadata": {},
   "outputs": [
    {
     "ename": "TypeError",
     "evalue": "xlabel() missing 1 required positional argument: 'xlabel'",
     "output_type": "error",
     "traceback": [
      "\u001b[0;31m---------------------------------------------------------------------------\u001b[0m",
      "\u001b[0;31mTypeError\u001b[0m                                 Traceback (most recent call last)",
      "\u001b[0;32m<ipython-input-66-9fb37ab8bbc6>\u001b[0m in \u001b[0;36m<module>\u001b[0;34m\u001b[0m\n\u001b[1;32m      9\u001b[0m \u001b[0mplt\u001b[0m\u001b[0;34m.\u001b[0m\u001b[0mtitle\u001b[0m\u001b[0;34m(\u001b[0m\u001b[0;34m\"World Population versus Internet Users in 2016 \"\u001b[0m\u001b[0;34m,\u001b[0m\u001b[0mfontsize\u001b[0m\u001b[0;34m=\u001b[0m \u001b[0;36m20\u001b[0m\u001b[0;34m)\u001b[0m\u001b[0;34m\u001b[0m\u001b[0;34m\u001b[0m\u001b[0m\n\u001b[1;32m     10\u001b[0m \u001b[0mplt\u001b[0m\u001b[0;34m.\u001b[0m\u001b[0mylabel\u001b[0m\u001b[0;34m(\u001b[0m\u001b[0;34m\"Population\"\u001b[0m\u001b[0;34m,\u001b[0m \u001b[0mfontsize\u001b[0m\u001b[0;34m=\u001b[0m\u001b[0;36m14\u001b[0m\u001b[0;34m)\u001b[0m\u001b[0;34m\u001b[0m\u001b[0;34m\u001b[0m\u001b[0m\n\u001b[0;32m---> 11\u001b[0;31m \u001b[0mplt\u001b[0m\u001b[0;34m.\u001b[0m\u001b[0mxlabel\u001b[0m\u001b[0;34m(\u001b[0m\u001b[0;34m)\u001b[0m\u001b[0;34m\u001b[0m\u001b[0;34m\u001b[0m\u001b[0m\n\u001b[0m\u001b[1;32m     12\u001b[0m \u001b[0mplt\u001b[0m\u001b[0;34m.\u001b[0m\u001b[0mlegend\u001b[0m\u001b[0;34m(\u001b[0m\u001b[0;34m[\u001b[0m\u001b[0;34m'Population'\u001b[0m\u001b[0;34m,\u001b[0m \u001b[0;34m\"Internet Users\"\u001b[0m\u001b[0;34m]\u001b[0m\u001b[0;34m)\u001b[0m\u001b[0;34m\u001b[0m\u001b[0;34m\u001b[0m\u001b[0m\n\u001b[1;32m     13\u001b[0m \u001b[0;34m\u001b[0m\u001b[0m\n",
      "\u001b[0;31mTypeError\u001b[0m: xlabel() missing 1 required positional argument: 'xlabel'"
     ]
    },
    {
     "data": {
      "image/png": "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\n",
      "text/plain": [
       "<Figure size 432x288 with 1 Axes>"
      ]
     },
     "metadata": {
      "needs_background": "light"
     },
     "output_type": "display_data"
    }
   ],
=======
   "execution_count": null,
   "metadata": {},
   "outputs": [],
>>>>>>> c8a5636976b9905efad4cdfcdf7bce40990d4adf
   "source": [
    "# plot World Population versus Internet Users\n",
    "\n",
    "world = world[['population', 'internet_users']]\n",
    "                        \n",
    "world.plot(kind='bar');\n",
    "\n",
    "plt.title(\"World Population versus Internet Users \",fontsize= 20)\n",
    "plt.ylabel(\"Population\", fontsize=14)\n",
    "plt.legend(['Population', \"Internet Users\"])\n",
    "\n",
    "plt.show()\n"
   ]
  },
  {
   "cell_type": "code",
<<<<<<< HEAD
   "execution_count": 67,
   "metadata": {},
   "outputs": [
    {
     "data": {
      "image/png": "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\n",
      "text/plain": [
       "<Figure size 720x576 with 1 Axes>"
      ]
     },
     "metadata": {
      "needs_background": "light"
     },
     "output_type": "display_data"
    }
   ],
=======
   "execution_count": null,
   "metadata": {},
   "outputs": [],
>>>>>>> c8a5636976b9905efad4cdfcdf7bce40990d4adf
   "source": [
    "# Population versus Internet users by area\n",
    "per_sub_area = (df_filtered[['region', 'population', 'internet_users']]).groupby(['region']).sum()\n",
    "\n",
    "#plot\n",
<<<<<<< HEAD
    "per_sub_area.plot(kind=\"bar\",\n",
    "                  colormap='winter',\n",
    "                  figsize=(10,8)\n",
    "                 )              \n",
=======
    "per_sub_area.plot(kind=\"bar\")              \n",
>>>>>>> c8a5636976b9905efad4cdfcdf7bce40990d4adf
    "                      \n",
    "plt.title('Population versus Internet Users by Area', fontsize=20)\n",
    "plt.ylabel(\"Population\", fontsize=14)\n",
    "plt.xlabel('')\n",
    "plt.legend(['Population', \"Internet Users\"]);\n",
    "plt.xticks(rotation =30,fontsize =14)\n",
    "\n",
    "plt.show()"
   ]
  },
  {
   "cell_type": "code",
   "execution_count": 68,
   "metadata": {},
   "outputs": [
    {
     "data": {
      "text/html": [
       "<div>\n",
       "<style scoped>\n",
       "    .dataframe tbody tr th:only-of-type {\n",
       "        vertical-align: middle;\n",
       "    }\n",
       "\n",
       "    .dataframe tbody tr th {\n",
       "        vertical-align: top;\n",
       "    }\n",
       "\n",
       "    .dataframe thead th {\n",
       "        text-align: right;\n",
       "    }\n",
       "</style>\n",
       "<table border=\"1\" class=\"dataframe\">\n",
       "  <thead>\n",
       "    <tr style=\"text-align: right;\">\n",
       "      <th></th>\n",
       "      <th>population</th>\n",
       "      <th>internet_users</th>\n",
       "    </tr>\n",
       "    <tr>\n",
       "      <th>region</th>\n",
       "      <th></th>\n",
       "      <th></th>\n",
       "    </tr>\n",
       "  </thead>\n",
       "  <tbody>\n",
       "    <tr>\n",
       "      <th>Africa</th>\n",
       "      <td>1.078043e+09</td>\n",
       "      <td>2.341930e+08</td>\n",
       "    </tr>\n",
       "    <tr>\n",
       "      <th>Americas</th>\n",
       "      <td>6.275328e+08</td>\n",
       "      <td>3.603579e+08</td>\n",
       "    </tr>\n",
       "    <tr>\n",
       "      <th>Asia</th>\n",
       "      <td>4.105089e+09</td>\n",
       "      <td>1.670888e+09</td>\n",
       "    </tr>\n",
       "    <tr>\n",
       "      <th>Europe</th>\n",
       "      <td>5.199933e+08</td>\n",
       "      <td>3.969583e+08</td>\n",
       "    </tr>\n",
       "    <tr>\n",
       "      <th>Oceania</th>\n",
       "      <td>3.831227e+07</td>\n",
       "      <td>2.617984e+07</td>\n",
       "    </tr>\n",
       "    <tr>\n",
       "      <th>Polar</th>\n",
       "      <td>0.000000e+00</td>\n",
       "      <td>4.400000e+03</td>\n",
       "    </tr>\n",
       "  </tbody>\n",
       "</table>\n",
       "</div>"
      ],
      "text/plain": [
       "            population  internet_users\n",
       "region                                \n",
       "Africa    1.078043e+09    2.341930e+08\n",
       "Americas  6.275328e+08    3.603579e+08\n",
       "Asia      4.105089e+09    1.670888e+09\n",
       "Europe    5.199933e+08    3.969583e+08\n",
       "Oceania   3.831227e+07    2.617984e+07\n",
       "Polar     0.000000e+00    4.400000e+03"
      ]
     },
     "execution_count": 68,
     "metadata": {},
     "output_type": "execute_result"
    }
   ],
   "source": [
    "per_sub_area"
   ]
  },
  {
   "cell_type": "code",
   "execution_count": null,
   "metadata": {},
   "outputs": [],
<<<<<<< HEAD
   "source": []
  },
  {
   "cell_type": "code",
   "execution_count": 69,
   "metadata": {},
   "outputs": [
    {
     "data": {
      "image/png": "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\n",
      "text/plain": [
       "<Figure size 432x288 with 1 Axes>"
      ]
     },
     "metadata": {
      "needs_background": "light"
     },
     "output_type": "display_data"
    }
   ],
=======
>>>>>>> c8a5636976b9905efad4cdfcdf7bce40990d4adf
   "source": [
    "# check top population, internet_users, gdp and education\n",
    "\n",
<<<<<<< HEAD
    "top_perc_internet_population = merged_data[['country', 'internet_%_of_population']]\\\n",
    "                            .sort_values(by=['internet_%_of_population'], ascending=False)\\\n",
    "                            .head(10)\\\n",
    "                            .sort_values(by=['internet_%_of_population'], ascending=True)\\\n",
    "                           .set_index('country')\n",
    "                            \n",
    "\n",
    "top_perc_internet_population.plot(kind='barh',\n",
    "                                 use_index='True',\n",
    "                                 legend=False,\n",
    "                                 colormap='winter'\n",
    "                             )\n",
=======
    "top_population = merged_data[['country','population', 'median_age']]\\\n",
    "                            .sort_values(by=['population'],ascending=False)\\\n",
    "                            .head(25)\n",
    "\n",
    "top_internet = merged_data[['country', 'internet_users']]\\\n",
    "                            .sort_values(by=['internet_users'], ascending=False)\\\n",
    "                            .head(25)\n",
>>>>>>> c8a5636976b9905efad4cdfcdf7bce40990d4adf
    "\n",
    "top_gdp = merged_data[['country', 'gdp_purchasing_power_parity']]\\\n",
    "                            .sort_values(by=['gdp_purchasing_power_parity'], ascending=False)\\\n",
    "                            .head(25)\n",
    "\n",
    "top_education = merged_data[['country', 'education_expenditures']]\\\n",
    "                            .sort_values(by=['education_expenditures'], ascending=False)\\\n",
    "                            .head(25)"
   ]
  },
  {
   "cell_type": "code",
<<<<<<< HEAD
   "execution_count": 70,
   "metadata": {},
   "outputs": [
    {
     "ename": "ValueError",
     "evalue": "level name internet_%_of_population is not the name of the index",
     "output_type": "error",
     "traceback": [
      "\u001b[0;31m---------------------------------------------------------------------------\u001b[0m",
      "\u001b[0;31mValueError\u001b[0m                                Traceback (most recent call last)",
      "\u001b[0;32m<ipython-input-70-e42114982b54>\u001b[0m in \u001b[0;36m<module>\u001b[0;34m\u001b[0m\n\u001b[0;32m----> 1\u001b[0;31m \u001b[0mrr\u001b[0m \u001b[0;34m=\u001b[0m \u001b[0mmerged_data\u001b[0m\u001b[0;34m.\u001b[0m\u001b[0mmax\u001b[0m\u001b[0;34m(\u001b[0m\u001b[0mlevel\u001b[0m\u001b[0;34m=\u001b[0m\u001b[0;34m'internet_%_of_population'\u001b[0m\u001b[0;34m)\u001b[0m\u001b[0;34m\u001b[0m\u001b[0;34m\u001b[0m\u001b[0m\n\u001b[0m",
      "\u001b[0;32m/usr/local/lib/python3.7/site-packages/pandas/core/generic.py\u001b[0m in \u001b[0;36mstat_func\u001b[0;34m(self, axis, skipna, level, numeric_only, **kwargs)\u001b[0m\n\u001b[1;32m  11614\u001b[0m             \u001b[0maxis\u001b[0m \u001b[0;34m=\u001b[0m \u001b[0mself\u001b[0m\u001b[0;34m.\u001b[0m\u001b[0m_stat_axis_number\u001b[0m\u001b[0;34m\u001b[0m\u001b[0;34m\u001b[0m\u001b[0m\n\u001b[1;32m  11615\u001b[0m         \u001b[0;32mif\u001b[0m \u001b[0mlevel\u001b[0m \u001b[0;32mis\u001b[0m \u001b[0;32mnot\u001b[0m \u001b[0;32mNone\u001b[0m\u001b[0;34m:\u001b[0m\u001b[0;34m\u001b[0m\u001b[0;34m\u001b[0m\u001b[0m\n\u001b[0;32m> 11616\u001b[0;31m             \u001b[0;32mreturn\u001b[0m \u001b[0mself\u001b[0m\u001b[0;34m.\u001b[0m\u001b[0m_agg_by_level\u001b[0m\u001b[0;34m(\u001b[0m\u001b[0mname\u001b[0m\u001b[0;34m,\u001b[0m \u001b[0maxis\u001b[0m\u001b[0;34m=\u001b[0m\u001b[0maxis\u001b[0m\u001b[0;34m,\u001b[0m \u001b[0mlevel\u001b[0m\u001b[0;34m=\u001b[0m\u001b[0mlevel\u001b[0m\u001b[0;34m,\u001b[0m \u001b[0mskipna\u001b[0m\u001b[0;34m=\u001b[0m\u001b[0mskipna\u001b[0m\u001b[0;34m)\u001b[0m\u001b[0;34m\u001b[0m\u001b[0;34m\u001b[0m\u001b[0m\n\u001b[0m\u001b[1;32m  11617\u001b[0m         return self._reduce(\n\u001b[1;32m  11618\u001b[0m             \u001b[0mf\u001b[0m\u001b[0;34m,\u001b[0m \u001b[0mname\u001b[0m\u001b[0;34m,\u001b[0m \u001b[0maxis\u001b[0m\u001b[0;34m=\u001b[0m\u001b[0maxis\u001b[0m\u001b[0;34m,\u001b[0m \u001b[0mskipna\u001b[0m\u001b[0;34m=\u001b[0m\u001b[0mskipna\u001b[0m\u001b[0;34m,\u001b[0m \u001b[0mnumeric_only\u001b[0m\u001b[0;34m=\u001b[0m\u001b[0mnumeric_only\u001b[0m\u001b[0;34m\u001b[0m\u001b[0;34m\u001b[0m\u001b[0m\n",
      "\u001b[0;32m/usr/local/lib/python3.7/site-packages/pandas/core/generic.py\u001b[0m in \u001b[0;36m_agg_by_level\u001b[0;34m(self, name, axis, level, skipna, **kwargs)\u001b[0m\n\u001b[1;32m  10438\u001b[0m         \u001b[0;32mif\u001b[0m \u001b[0maxis\u001b[0m \u001b[0;32mis\u001b[0m \u001b[0;32mNone\u001b[0m\u001b[0;34m:\u001b[0m\u001b[0;34m\u001b[0m\u001b[0;34m\u001b[0m\u001b[0m\n\u001b[1;32m  10439\u001b[0m             \u001b[0;32mraise\u001b[0m \u001b[0mValueError\u001b[0m\u001b[0;34m(\u001b[0m\u001b[0;34m\"Must specify 'axis' when aggregating by level.\"\u001b[0m\u001b[0;34m)\u001b[0m\u001b[0;34m\u001b[0m\u001b[0;34m\u001b[0m\u001b[0m\n\u001b[0;32m> 10440\u001b[0;31m         \u001b[0mgrouped\u001b[0m \u001b[0;34m=\u001b[0m \u001b[0mself\u001b[0m\u001b[0;34m.\u001b[0m\u001b[0mgroupby\u001b[0m\u001b[0;34m(\u001b[0m\u001b[0mlevel\u001b[0m\u001b[0;34m=\u001b[0m\u001b[0mlevel\u001b[0m\u001b[0;34m,\u001b[0m \u001b[0maxis\u001b[0m\u001b[0;34m=\u001b[0m\u001b[0maxis\u001b[0m\u001b[0;34m,\u001b[0m \u001b[0msort\u001b[0m\u001b[0;34m=\u001b[0m\u001b[0;32mFalse\u001b[0m\u001b[0;34m)\u001b[0m\u001b[0;34m\u001b[0m\u001b[0;34m\u001b[0m\u001b[0m\n\u001b[0m\u001b[1;32m  10441\u001b[0m         \u001b[0;32mif\u001b[0m \u001b[0mhasattr\u001b[0m\u001b[0;34m(\u001b[0m\u001b[0mgrouped\u001b[0m\u001b[0;34m,\u001b[0m \u001b[0mname\u001b[0m\u001b[0;34m)\u001b[0m \u001b[0;32mand\u001b[0m \u001b[0mskipna\u001b[0m\u001b[0;34m:\u001b[0m\u001b[0;34m\u001b[0m\u001b[0;34m\u001b[0m\u001b[0m\n\u001b[1;32m  10442\u001b[0m             \u001b[0;32mreturn\u001b[0m \u001b[0mgetattr\u001b[0m\u001b[0;34m(\u001b[0m\u001b[0mgrouped\u001b[0m\u001b[0;34m,\u001b[0m \u001b[0mname\u001b[0m\u001b[0;34m)\u001b[0m\u001b[0;34m(\u001b[0m\u001b[0;34m**\u001b[0m\u001b[0mkwargs\u001b[0m\u001b[0;34m)\u001b[0m\u001b[0;34m\u001b[0m\u001b[0;34m\u001b[0m\u001b[0m\n",
      "\u001b[0;32m/usr/local/lib/python3.7/site-packages/pandas/core/generic.py\u001b[0m in \u001b[0;36mgroupby\u001b[0;34m(self, by, axis, level, as_index, sort, group_keys, squeeze, observed, **kwargs)\u001b[0m\n\u001b[1;32m   7892\u001b[0m             \u001b[0msqueeze\u001b[0m\u001b[0;34m=\u001b[0m\u001b[0msqueeze\u001b[0m\u001b[0;34m,\u001b[0m\u001b[0;34m\u001b[0m\u001b[0;34m\u001b[0m\u001b[0m\n\u001b[1;32m   7893\u001b[0m             \u001b[0mobserved\u001b[0m\u001b[0;34m=\u001b[0m\u001b[0mobserved\u001b[0m\u001b[0;34m,\u001b[0m\u001b[0;34m\u001b[0m\u001b[0;34m\u001b[0m\u001b[0m\n\u001b[0;32m-> 7894\u001b[0;31m             \u001b[0;34m**\u001b[0m\u001b[0mkwargs\u001b[0m\u001b[0;34m\u001b[0m\u001b[0;34m\u001b[0m\u001b[0m\n\u001b[0m\u001b[1;32m   7895\u001b[0m         )\n\u001b[1;32m   7896\u001b[0m \u001b[0;34m\u001b[0m\u001b[0m\n",
      "\u001b[0;32m/usr/local/lib/python3.7/site-packages/pandas/core/groupby/groupby.py\u001b[0m in \u001b[0;36mgroupby\u001b[0;34m(obj, by, **kwds)\u001b[0m\n\u001b[1;32m   2520\u001b[0m         \u001b[0;32mraise\u001b[0m \u001b[0mTypeError\u001b[0m\u001b[0;34m(\u001b[0m\u001b[0;34m\"invalid type: {}\"\u001b[0m\u001b[0;34m.\u001b[0m\u001b[0mformat\u001b[0m\u001b[0;34m(\u001b[0m\u001b[0mobj\u001b[0m\u001b[0;34m)\u001b[0m\u001b[0;34m)\u001b[0m\u001b[0;34m\u001b[0m\u001b[0;34m\u001b[0m\u001b[0m\n\u001b[1;32m   2521\u001b[0m \u001b[0;34m\u001b[0m\u001b[0m\n\u001b[0;32m-> 2522\u001b[0;31m     \u001b[0;32mreturn\u001b[0m \u001b[0mklass\u001b[0m\u001b[0;34m(\u001b[0m\u001b[0mobj\u001b[0m\u001b[0;34m,\u001b[0m \u001b[0mby\u001b[0m\u001b[0;34m,\u001b[0m \u001b[0;34m**\u001b[0m\u001b[0mkwds\u001b[0m\u001b[0;34m)\u001b[0m\u001b[0;34m\u001b[0m\u001b[0;34m\u001b[0m\u001b[0m\n\u001b[0m",
      "\u001b[0;32m/usr/local/lib/python3.7/site-packages/pandas/core/groupby/groupby.py\u001b[0m in \u001b[0;36m__init__\u001b[0;34m(self, obj, keys, axis, level, grouper, exclusions, selection, as_index, sort, group_keys, squeeze, observed, **kwargs)\u001b[0m\n\u001b[1;32m    389\u001b[0m                 \u001b[0msort\u001b[0m\u001b[0;34m=\u001b[0m\u001b[0msort\u001b[0m\u001b[0;34m,\u001b[0m\u001b[0;34m\u001b[0m\u001b[0;34m\u001b[0m\u001b[0m\n\u001b[1;32m    390\u001b[0m                 \u001b[0mobserved\u001b[0m\u001b[0;34m=\u001b[0m\u001b[0mobserved\u001b[0m\u001b[0;34m,\u001b[0m\u001b[0;34m\u001b[0m\u001b[0;34m\u001b[0m\u001b[0m\n\u001b[0;32m--> 391\u001b[0;31m                 \u001b[0mmutated\u001b[0m\u001b[0;34m=\u001b[0m\u001b[0mself\u001b[0m\u001b[0;34m.\u001b[0m\u001b[0mmutated\u001b[0m\u001b[0;34m,\u001b[0m\u001b[0;34m\u001b[0m\u001b[0;34m\u001b[0m\u001b[0m\n\u001b[0m\u001b[1;32m    392\u001b[0m             )\n\u001b[1;32m    393\u001b[0m \u001b[0;34m\u001b[0m\u001b[0m\n",
      "\u001b[0;32m/usr/local/lib/python3.7/site-packages/pandas/core/groupby/grouper.py\u001b[0m in \u001b[0;36m_get_grouper\u001b[0;34m(obj, key, axis, level, sort, observed, mutated, validate)\u001b[0m\n\u001b[1;32m    499\u001b[0m                 \u001b[0;32mif\u001b[0m \u001b[0mobj\u001b[0m\u001b[0;34m.\u001b[0m\u001b[0mindex\u001b[0m\u001b[0;34m.\u001b[0m\u001b[0mname\u001b[0m \u001b[0;34m!=\u001b[0m \u001b[0mlevel\u001b[0m\u001b[0;34m:\u001b[0m\u001b[0;34m\u001b[0m\u001b[0;34m\u001b[0m\u001b[0m\n\u001b[1;32m    500\u001b[0m                     raise ValueError(\n\u001b[0;32m--> 501\u001b[0;31m                         \u001b[0;34m\"level name {} is not the name of the \"\u001b[0m \u001b[0;34m\"index\"\u001b[0m\u001b[0;34m.\u001b[0m\u001b[0mformat\u001b[0m\u001b[0;34m(\u001b[0m\u001b[0mlevel\u001b[0m\u001b[0;34m)\u001b[0m\u001b[0;34m\u001b[0m\u001b[0;34m\u001b[0m\u001b[0m\n\u001b[0m\u001b[1;32m    502\u001b[0m                     )\n\u001b[1;32m    503\u001b[0m             \u001b[0;32melif\u001b[0m \u001b[0mlevel\u001b[0m \u001b[0;34m>\u001b[0m \u001b[0;36m0\u001b[0m \u001b[0;32mor\u001b[0m \u001b[0mlevel\u001b[0m \u001b[0;34m<\u001b[0m \u001b[0;34m-\u001b[0m\u001b[0;36m1\u001b[0m\u001b[0;34m:\u001b[0m\u001b[0;34m\u001b[0m\u001b[0;34m\u001b[0m\u001b[0m\n",
      "\u001b[0;31mValueError\u001b[0m: level name internet_%_of_population is not the name of the index"
     ]
    }
   ],
   "source": [
    "rr = merged_data.max(level='internet_%_of_population')"
   ]
  },
  {
   "cell_type": "code",
   "execution_count": 71,
=======
   "execution_count": null,
>>>>>>> c8a5636976b9905efad4cdfcdf7bce40990d4adf
   "metadata": {},
   "outputs": [],
   "source": [
    "# check if top education is in: top population, top internet users and top gdp\n",
    "\n",
    "a = top_education.assign(In_top_population=top_education.country.isin(top_population.country).astype(int))\n",
    "\n",
    "b = top_education.assign(In_top_internet=top_education.country.isin(top_internet.country).astype(int))\n",
    "\n",
    "c = top_education.assign(In_top_gdp=top_education.country.isin(top_gdp.country).astype(int))\n",
    "\n",
    "\n",
<<<<<<< HEAD
    "# top_education = merged_data[['country', 'education_expenditures']]\\\n",
    "#                             .sort_values(by=['education_expenditures'], ascending=False)\\\n",
    "#                             .head(25)"
   ]
  },
  {
   "cell_type": "code",
   "execution_count": 72,
   "metadata": {},
   "outputs": [
    {
     "data": {
      "image/png": "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\n",
      "text/plain": [
       "<Figure size 432x288 with 1 Axes>"
      ]
     },
     "metadata": {
      "needs_background": "light"
     },
     "output_type": "display_data"
    }
   ],
   "source": [
    "# What countries have the lowest Internet penetration rate in 2016?\n",
=======
>>>>>>> c8a5636976b9905efad4cdfcdf7bce40990d4adf
    "\n",
    "# check if top population is in top internet users\n",
    "\n",
    "d = top_population.assign(In_Top_Internet=top_population.country.isin(top_internet.country).astype(int))\n",
    "\n",
    "# check if top gdp is in top internet users\n",
    "\n",
    "e = top_gdp.assign(In_top_internet=top_gdp.country.isin(top_internet.country).astype(int))\n",
    "\n",
    "\n",
    "\n",
    "w = count_educationXpopulation = a['In_top_population'].value_counts()\n",
    "\n",
    "y = count_educationXinternet = b['In_top_internet'].value_counts()\n",
    "\n",
    "z = count_educationXgdp = c['In_top_gdp'].value_counts()"
   ]
  },
  {
   "cell_type": "code",
   "execution_count": null,
   "metadata": {},
   "outputs": [],
   "source": []
  },
  {
   "cell_type": "markdown",
   "metadata": {},
   "source": [
    "<h1>Cesar's Workspace</h1>"
   ]
  },
  {
   "cell_type": "code",
   "execution_count": null,
   "metadata": {},
   "outputs": [],
   "source": []
  },
  {
   "cell_type": "markdown",
   "metadata": {},
   "source": [
    "<h1>Claudia's Workspace</h1>"
   ]
  },
  {
   "cell_type": "code",
   "execution_count": null,
   "metadata": {},
   "outputs": [],
   "source": []
  }
 ],
 "metadata": {
  "kernelspec": {
   "display_name": "butterfly_effect",
   "language": "python",
   "name": "butterfly_effect"
  },
  "language_info": {
   "codemirror_mode": {
    "name": "ipython",
    "version": 3
   },
   "file_extension": ".py",
   "mimetype": "text/x-python",
   "name": "python",
   "nbconvert_exporter": "python",
   "pygments_lexer": "ipython3",
   "version": "3.7.4"
  }
 },
 "nbformat": 4,
 "nbformat_minor": 4
}
