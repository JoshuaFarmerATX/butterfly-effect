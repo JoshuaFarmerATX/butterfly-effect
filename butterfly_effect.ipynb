{
 "cells": [
  {
   "cell_type": "code",
   "execution_count": 1,
   "metadata": {},
   "outputs": [],
   "source": [
    "import pandas as pd\n",
    "import matplotlib.pyplot as plt\n",
    "import numpy as np\n",
    "from pprint import pprint\n",
    "import requests\n",
    "import json\n",
    "import data_import\n",
    "import gmaps\n",
    "import gmaps.geojson_geometries\n",
    "import api_keys"
   ]
  },
  {
   "cell_type": "code",
   "execution_count": 2,
   "metadata": {},
   "outputs": [],
   "source": [
    "rest_df = data_import.get_rest_countries()"
   ]
  },
  {
   "cell_type": "code",
   "execution_count": 3,
   "metadata": {},
   "outputs": [],
   "source": [
    "cia_df = data_import.get_cia_data()"
   ]
  },
  {
   "cell_type": "code",
   "execution_count": 4,
   "metadata": {},
   "outputs": [],
   "source": [
    "merged_data = pd.merge(rest_df, cia_df, how = 'inner', on = 'country')"
   ]
  },
  {
   "cell_type": "code",
   "execution_count": 5,
   "metadata": {},
   "outputs": [],
   "source": [
    "merged_data.to_csv(\"merged_data.csv\")"
   ]
  },
  {
   "cell_type": "markdown",
   "metadata": {},
   "source": [
    "<h1> Josh's Workspace </h1>"
   ]
  },
  {
   "cell_type": "code",
   "execution_count": 6,
   "metadata": {},
   "outputs": [],
   "source": [
    "pop_low = merged_data[\"population\"].quantile(0.1)\n",
    "pop_hi  = merged_data[\"population\"].quantile(0.90)\n",
    "edu_low = merged_data['education_expenditures'].quantile(0.01)\n",
    "edu_hi = merged_data['education_expenditures'].quantile(0.99)\n",
    "\n",
    "\n",
    "df_filtered = merged_data[(merged_data[\"population\"] < pop_hi) & (merged_data[\"population\"] > pop_low) & (merged_data['education_expenditures'] > edu_low) & (merged_data['education_expenditures'] < edu_hi)]"
   ]
  },
  {
   "cell_type": "code",
   "execution_count": 7,
   "metadata": {},
   "outputs": [
    {
     "data": {
      "image/png": "[encoded data removed]",
      "text/plain": [
       "<Figure size 432x288 with 1 Axes>"
      ]
     },
     "metadata": {
      "needs_background": "light"
     },
     "output_type": "display_data"
    }
   ],
   "source": [
    "z = np.polyfit(df_filtered['internet_%_of_population'], df_filtered['education_expenditures'], 1)\n",
    "p = np.poly1d(z)\n",
    "\n",
    "plt.plot(df_filtered['internet_%_of_population'],p(df_filtered['internet_%_of_population']),\"r--\")\n",
    "plt.scatter(df_filtered['internet_%_of_population'], df_filtered['education_expenditures'], alpha = .6)\n",
    "plt.xlabel('Percent of Internet Usage')\n",
    "plt.ylabel('Education Expenditures (GDP %)')\n",
    "\n",
    "plt.show()"
   ]
  },
  {
   "cell_type": "code",
   "execution_count": 8,
   "metadata": {},
   "outputs": [],
   "source": [
    "sub_df = df_filtered[['sub-region', 'internet_%_of_population', 'median_age', 'education_expenditures']]"
   ]
  },
  {
   "cell_type": "code",
   "execution_count": 9,
   "metadata": {},
   "outputs": [],
   "source": [
    "sub_df = sub_df.groupby('sub-region').mean()"
   ]
  },
  {
   "cell_type": "code",
   "execution_count": 10,
   "metadata": {},
   "outputs": [
    {
     "data": {
      "text/html": [
       "<div>\n",
       "<style scoped>\n",
       "    .dataframe tbody tr th:only-of-type {\n",
       "        vertical-align: middle;\n",
       "    }\n",
       "\n",
       "    .dataframe tbody tr th {\n",
       "        vertical-align: top;\n",
       "    }\n",
       "\n",
       "    .dataframe thead th {\n",
       "        text-align: right;\n",
       "    }\n",
       "</style>\n",
       "<table border=\"1\" class=\"dataframe\">\n",
       "  <thead>\n",
       "    <tr style=\"text-align: right;\">\n",
       "      <th></th>\n",
       "      <th>internet_%_of_population</th>\n",
       "      <th>median_age</th>\n",
       "      <th>education_expenditures</th>\n",
       "    </tr>\n",
       "    <tr>\n",
       "      <th>sub-region</th>\n",
       "      <th></th>\n",
       "      <th></th>\n",
       "      <th></th>\n",
       "    </tr>\n",
       "  </thead>\n",
       "  <tbody>\n",
       "    <tr>\n",
       "      <th>Australia and New Zealand</th>\n",
       "      <td>88.350000</td>\n",
       "      <td>38.450000</td>\n",
       "      <td>5.800000</td>\n",
       "    </tr>\n",
       "    <tr>\n",
       "      <th>Caribbean</th>\n",
       "      <td>61.414286</td>\n",
       "      <td>34.571429</td>\n",
       "      <td>4.814286</td>\n",
       "    </tr>\n",
       "    <tr>\n",
       "      <th>Central America</th>\n",
       "      <td>40.385714</td>\n",
       "      <td>26.357143</td>\n",
       "      <td>4.942857</td>\n",
       "    </tr>\n",
       "    <tr>\n",
       "      <th>Central Asia</th>\n",
       "      <td>39.320000</td>\n",
       "      <td>27.980000</td>\n",
       "      <td>4.940000</td>\n",
       "    </tr>\n",
       "    <tr>\n",
       "      <th>Eastern Africa</th>\n",
       "      <td>24.375000</td>\n",
       "      <td>21.841667</td>\n",
       "      <td>4.525000</td>\n",
       "    </tr>\n",
       "  </tbody>\n",
       "</table>\n",
       "</div>"
      ],
      "text/plain": [
       "                           internet_%_of_population  median_age  \\\n",
       "sub-region                                                        \n",
       "Australia and New Zealand                 88.350000   38.450000   \n",
       "Caribbean                                 61.414286   34.571429   \n",
       "Central America                           40.385714   26.357143   \n",
       "Central Asia                              39.320000   27.980000   \n",
       "Eastern Africa                            24.375000   21.841667   \n",
       "\n",
       "                           education_expenditures  \n",
       "sub-region                                         \n",
       "Australia and New Zealand                5.800000  \n",
       "Caribbean                                4.814286  \n",
       "Central America                          4.942857  \n",
       "Central Asia                             4.940000  \n",
       "Eastern Africa                           4.525000  "
      ]
     },
     "execution_count": 10,
     "metadata": {},
     "output_type": "execute_result"
    }
   ],
   "source": [
    "sub_df.head()"
   ]
  },
  {
   "cell_type": "code",
   "execution_count": null,
   "metadata": {},
   "outputs": [],
   "source": [
    "# gmaps.configure(api_key = api_keys.google_key)"
   ]
  },
  {
   "cell_type": "code",
   "execution_count": null,
   "metadata": {},
   "outputs": [],
   "source": [
    "# countries_geojson = gmaps.geojson_geometries.load_geometry('countries')\n",
    "\n",
    "# fig = gmaps.figure()\n",
    "\n",
    "# gini_layer = gmaps.geojson_layer(countries_geojson)\n",
    "# fig.add_layer(gini_layer)\n",
    "# fig"
   ]
  },
  {
   "cell_type": "code",
   "execution_count": null,
   "metadata": {},
   "outputs": [],
   "source": [
    "# pprint(countries_geojson['features'][0]['properties'])"
   ]
  },
  {
   "cell_type": "code",
   "execution_count": null,
   "metadata": {},
   "outputs": [],
   "source": [
    "# len(countries_geojson['features'])"
   ]
  },
  {
   "cell_type": "code",
   "execution_count": null,
   "metadata": {},
   "outputs": [],
   "source": []
  },
  {
   "cell_type": "markdown",
   "metadata": {},
   "source": [
    "<h1>Daniela's Workspace</h1>"
   ]
  },
  {
   "cell_type": "code",
   "execution_count": 71,
   "metadata": {},
   "outputs": [],
   "source": [
    "world = cia_df.iloc[[0]]"
   ]
  },
  {
   "cell_type": "code",
   "execution_count": 121,
   "metadata": {},
   "outputs": [
    {
     "data": {
      "image/png": "[encoded data removed]",
      "text/plain": [
       "<Figure size 432x288 with 1 Axes>"
      ]
     },
     "metadata": {
      "needs_background": "light"
     },
     "output_type": "display_data"
    }
   ],
   "source": [
    "#plot World Population versus Internet Users\n",
    "\n",
    "world = world[['population', 'internet_users']]\n",
    "                        \n",
    "world.plot(kind='bar');\n",
    "\n",
    "\n",
    "plt.title(\"World Population versus Internet Users \",fontsize= 20)\n",
    "plt.ylabel(\"Population\", fontsize=14)\n",
    "plt.legend(['Population', \"Internet Users\"])\n",
    "\n",
    "plt.show()\n"
   ]
  },
  {
   "cell_type": "code",
   "execution_count": 112,
   "metadata": {},
   "outputs": [
    {
     "data": {
      "image/png": "[encoded data removed]",
      "text/plain": [
       "<Figure size 432x288 with 1 Axes>"
      ]
     },
     "metadata": {
      "needs_background": "light"
     },
     "output_type": "display_data"
    }
   ],
   "source": [
    "# Population versus Internet users by area\n",
    "per_sub_area = (df_filtered[['region', 'population', 'internet_users']]).groupby(['region']).sum()\n",
    "\n",
    "#plot\n",
    "per_sub_area.plot(kind=\"bar\")              \n",
    "                      \n",
    "plt.title('Population versus Internet Users by Area', fontsize=20)\n",
    "plt.ylabel(\"Population\", fontsize=14)\n",
    "plt.legend(['Population', \"Internet Users\"]);\n",
    "plt.xticks(rotation =30,fontsize =14)\n",
    "\n",
    "plt.show()"
   ]
  },
  {
   "cell_type": "code",
   "execution_count": 11,
   "metadata": {},
   "outputs": [],
   "source": [
    "# check top population, internet_users, gdp and education\n",
    "\n",
    "top_population = merged_data[['country','population', 'median_age']]\\\n",
    "                            .sort_values(by=['population'],ascending=False)\\\n",
    "                            .head(25)\n",
    "\n",
    "top_internet = merged_data[['country', 'internet_users']]\\\n",
    "                            .sort_values(by=['internet_users'], ascending=False)\\\n",
    "                            .head(25)\n",
    "\n",
    "top_gdp = merged_data[['country', 'gdp_purchasing_power_parity']]\\\n",
    "                            .sort_values(by=['gdp_purchasing_power_parity'], ascending=False)\\\n",
    "                            .head(25)\n",
    "\n",
    "top_education = merged_data[['country', 'education_expenditures']]\\\n",
    "                            .sort_values(by=['education_expenditures'], ascending=False)\\\n",
    "                            .head(25)"
   ]
  },
  {
   "cell_type": "code",
   "execution_count": 12,
   "metadata": {},
   "outputs": [],
   "source": [
    "# check if top education is in: top population, top internet users and top gdp\n",
    "\n",
    "a = top_education.assign(In_top_population=top_education.country.isin(top_population.country).astype(int))\n",
    "\n",
    "b = top_education.assign(In_top_internet=top_education.country.isin(top_internet.country).astype(int))\n",
    "\n",
    "c = top_education.assign(In_top_gdp=top_education.country.isin(top_gdp.country).astype(int))\n",
    "\n",
    "\n",
    "\n",
    "# check if top population is in top internet users\n",
    "\n",
    "d = top_population.assign(In_Top_Internet=top_population.country.isin(top_internet.country).astype(int))\n",
    "\n",
    "# check if top gdp is in top internet users\n",
    "\n",
    "e = top_gdp.assign(In_top_internet=top_gdp.country.isin(top_internet.country).astype(int))\n",
    "\n",
    "\n",
    "\n",
    "w = count_educationXpopulation = a['In_top_population'].value_counts()\n",
    "\n",
    "y = count_educationXinternet = b['In_top_internet'].value_counts()\n",
    "\n",
    "z = count_educationXgdp = c['In_top_gdp'].value_counts()"
   ]
  },
  {
   "cell_type": "code",
   "execution_count": 33,
   "metadata": {},
   "outputs": [],
   "source": []
  },
  {
   "cell_type": "markdown",
   "metadata": {},
   "source": [
    "<h1>Cesar's Workspace</h1>"
   ]
  },
  {
   "cell_type": "code",
   "execution_count": null,
   "metadata": {},
   "outputs": [],
   "source": []
  },
  {
   "cell_type": "markdown",
   "metadata": {},
   "source": [
    "<h1>Claudia's Workspace</h1>"
   ]
  },
  {
   "cell_type": "code",
   "execution_count": null,
   "metadata": {},
   "outputs": [],
   "source": []
  }
 ],
 "metadata": {
  "kernelspec": {
   "display_name": "project1",
   "language": "python",
   "name": "project1"
  },
  "language_info": {
   "codemirror_mode": {
    "name": "ipython",
    "version": 3
   },
   "file_extension": ".py",
   "mimetype": "text/x-python",
   "name": "python",
   "nbconvert_exporter": "python",
   "pygments_lexer": "ipython3",
   "version": "3.7.5"
  }
 },
 "nbformat": 4,
 "nbformat_minor": 4
}
